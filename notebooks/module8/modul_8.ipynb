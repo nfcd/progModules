{
 "cells": [
  {
   "cell_type": "markdown",
   "id": "8e6ee2a8",
   "metadata": {},
   "source": [
    "# Modul 8\n"
   ]
  },
  {
   "cell_type": "markdown",
   "id": "231c669b",
   "metadata": {},
   "source": [
    "# Modul 8: Lesing av data\n",
    "\n",
    "Den viktige funksjonen for å arbeide med filer i Python er <code>open()</code>-funksjonen. Denne funksjonen tar to parametere: filnavn og modus. Det finnes fire ulike metoder (moduser) for å åpne en fil:\n",
    "\n",
    "\"r\" - Les - Standardverdi. Leser filen, returnerer en feil hvis filen ikke eksisterer.\n",
    "\n",
    "\"a\" - Legg til - Åpner en fil for å legge til data, oppretter filen hvis den ikke eksisterer.\n",
    "\n",
    "\"w\" - Skriv - Åpner en fil for skriving, oppretter filen hvis den ikke eksisterer.\n",
    "\n",
    "\"x\" - Opprett - Oppretter filen, returnerer en feil hvis filen eksisterer.\n",
    "\n",
    "\"t\" - Tekst - Standardverdi. Tekstmodus.\n",
    "\n",
    "\"b\" - Binær - Binærmodus (f.eks. bilder).\n",
    "\n",
    "## Lesing av tekstfiler"
   ]
  },
  {
   "cell_type": "code",
   "execution_count": null,
   "id": "e4109c85",
   "metadata": {},
   "outputs": [],
   "source": [
    "#For å lese en fil med funksjonen open trenger vi bare å spesifisere filnavnet.\n",
    "#3Dette leser filen og returnerer et filobjekt\n",
    "\n",
    "f = open(\"demofile.txt\") # filen er i samme mappe\n",
    "\n",
    "#skriv ut innholdet i filen ved hjelp av filmetoden read\n",
    "\n",
    "print(f.read())"
   ]
  },
  {
   "cell_type": "markdown",
   "id": "a0562ca7",
   "metadata": {},
   "source": [
    "For å lese tekstdata inn i Python kan du også bruke biblioteket <code>pandas</code>. Biblioteket <code>pandas</code> tilbyr funksjonen <code>read_csv()</code>, som er allsidig og kan håndtere ulike typer tekstfiler med skilletegn, inkludert komma-separerte tekstfiler som vår <code>demofile.txt</code>.\n",
    "\n",
    "Her er et eksempel på hvordan du kan lese den samme filen ved hjelp av <code>pandas</code>:"
   ]
  },
  {
   "cell_type": "code",
   "execution_count": null,
   "id": "8036d6f7",
   "metadata": {},
   "outputs": [],
   "source": [
    "import pandas as pd\n",
    "\n",
    "#Les filen inn i en DataFrame kalt data\n",
    "\n",
    "data = pd.read_csv('demofile.txt') # filen er i samme mappe\n",
    "\n",
    "#Vis de første fem radene av DataFrame ved hjelp av funksjonen head\n",
    "\n",
    "data.head()"
   ]
  },
  {
   "cell_type": "markdown",
   "id": "1440140c",
   "metadata": {},
   "source": [
    "Merk at filen blir lest inn som en <code>DataFrame</code>, en datastruktur i <code>pandas</code> som inneholder merkede akser (rader og kolonner). <code>DataFrame</code> er en kraftig struktur, og vi vil bruke den mye fremover.\n",
    "\n",
    "## Lesing av Excel-filer:\n",
    "\n",
    "For å lese Excel-filer inn i Python kan vi også bruke <code>pandas</code>. <code>pandas</code> tilbyr funksjonen <code>read_excel()</code> for å lese Excel-filer.\n",
    "\n",
    "Her er et eksempel på hvordan du kan lese en Excel-fil ved hjelp av <code>pandas</code>:"
   ]
  },
  {
   "cell_type": "code",
   "execution_count": null,
   "id": "10265303",
   "metadata": {},
   "outputs": [],
   "source": [
    "#Les Excel-filen inn i en DataFrame\n",
    "\n",
    "data = pd.read_excel('data.xlsx', sheet_name='Sheet1') # filen er i samme mappe\n",
    "\n",
    "#Vis de første fem radene av DataFrame\n",
    "\n",
    "data.head()"
   ]
  },
  {
   "cell_type": "markdown",
   "id": "4b4357e9",
   "metadata": {},
   "source": [
    "# Å hoppe over rader og velge bestemte kolonner:\n",
    "Når du leser eller importerer data, er det viktig å se på den faktiske filen for å se hvilke data du er interessert i og hvor dataene befinner seg. Noen ganger trenger du ikke all dataen!\n",
    "\n",
    "La oss se på Excel-filen energy_data.xlsx:"
   ]
  },
  {
   "cell_type": "code",
   "execution_count": null,
   "id": "fac27180",
   "metadata": {},
   "outputs": [],
   "source": [
    "# Les Excel-filen som en DataFrame\n",
    "\n",
    "energy_data = pd.read_excel('energy_data.xlsx', sheet_name='Sheet1')\n",
    "\n",
    "# Vis de første fem radene av DataFrame\n",
    "\n",
    "energy_data.head()"
   ]
  },
  {
   "cell_type": "markdown",
   "id": "17c9023d",
   "metadata": {},
   "source": [
    "Du kan se at det ikke er noen verdier i de første fem radene av DataFrame-en. Dette skyldes at de første 9 radene i Excel-filen er tomme. Derfor må vi fortelle <code>pandas</code> å hoppe over de første 9 radene, og den 10. raden vil være overskriften:"
   ]
  },
  {
   "cell_type": "code",
   "execution_count": null,
   "id": "bf798943",
   "metadata": {},
   "outputs": [],
   "source": [
    "#Les Excel-filen og hopp over rader\n",
    "\n",
    "energy_data = pd.read_excel('energy_data.xlsx', sheet_name='Sheet1', skiprows=9)\n",
    "\n",
    "energy_data.head()"
   ]
  },
  {
   "cell_type": "markdown",
   "id": "c59230e9",
   "metadata": {},
   "source": [
    "Nå er dette riktig. Anta at vi kun er interessert i navnet på landet, energiforbruket per år i milliarder KWh og befolkningen i millioner. Det enkleste er å hente ut kolonnene ved hjelp av deres indekser. For å gjøre dette kan vi bruke funksjonen <code>iloc</code>:"
   ]
  },
  {
   "cell_type": "code",
   "execution_count": null,
   "id": "f5518e99",
   "metadata": {},
   "outputs": [],
   "source": [
    "#Hent ut valgte kolonner i DataFrame-en\n",
    "#For å gjøre dette bruker vi funksjonen iloc og angir alle rader\n",
    "#i kolonnene\n",
    "#med indeksene 0, 1 og 2\n",
    "\n",
    "energy_data_sel = energy_data.iloc[:, [0, 1, 2]]\n",
    "\n",
    "energy_data_sel.head()"
   ]
  },
  {
   "cell_type": "markdown",
   "id": "47367f3a",
   "metadata": {},
   "source": [
    "DataFrame gjør dataanalyse enkel\n",
    "\n",
    "DataFrame er en kraftig struktur for dataanalyse. La oss sortere landene i DataFrame-en <code>energy_data</code> etter energiforbruk fra høyest til lavest. For å gjøre det, bruker vi DataFrame-funksjonen <code>sort_values()</code>, angir kolonnen <code>Energy Consumed</code> og spesifiserer at vi vil sortere den kolonnen i synkende rekkefølge, fra høyest til lavest verdi:"
   ]
  },
  {
   "cell_type": "code",
   "execution_count": null,
   "id": "3765a811",
   "metadata": {},
   "outputs": [],
   "source": [
    "#Sorter energidata etter energiforbruk i synkende rekkefølge: fra høyest til lavest\n",
    "\n",
    "sortert_energidata = energy_data.sort_values(by=\"Energy Consumed\", ascending=False)\n",
    "\n",
    "#Vis de fem øverste landene\n",
    "\n",
    "sortert_energidata.head()"
   ]
  },
  {
   "cell_type": "markdown",
   "id": "9c703158",
   "metadata": {},
   "source": [
    "DataFrame er svært kraftig for statistikk. La oss si at vi ønsker å finne den generelle statistikken for de numeriske kolonnene i DataFrame-en <code>energy_data</code>. Dette er enkelt, vi trenger bare å bruke DataFrame-metoden <code>describe()</code>:"
   ]
  },
  {
   "cell_type": "code",
   "execution_count": null,
   "id": "9e304f12",
   "metadata": {},
   "outputs": [],
   "source": [
    "energy_data.describe() # Beregn statistikken for numeriske verdikolonner"
   ]
  },
  {
   "cell_type": "markdown",
   "id": "7be931bb",
   "metadata": {},
   "source": [
    "Med bare én linje med kode kan vi beregne maksimum, minimum, gjennomsnitt, standardavvik og percentilverdier for disse kolonnene. Det er fantastisk!\n",
    "\n",
    "Konvertering av DataFrame til en array\n",
    "\n",
    "Vi kan også konvertere DataFrame til en numpy array og vice versa. For å gjøre dette bruker vi bare metoden <code>values</code> på DataFrame-en:"
   ]
  },
  {
   "cell_type": "code",
   "execution_count": null,
   "id": "c6639246",
   "metadata": {},
   "outputs": [],
   "source": [
    "#Konverter DataFrame til NumPy-array\n",
    "\n",
    "arr = energy_data.values\n",
    "\n",
    "#Skriv ut arrayen\n",
    "\n",
    "print(arr)"
   ]
  },
  {
   "cell_type": "code",
   "execution_count": null,
   "id": "b0c557cf",
   "metadata": {},
   "outputs": [],
   "source": [
    "#Sorter arrayen basert på kolonnen Energy Consumed (indeks = 1)\n",
    "\n",
    "#Dette sorterer arrayen i stigende rekkefølge\n",
    "\n",
    "sortert_arr_stigende = arr[arr[:, 1].argsort()]\n",
    "\n",
    "#Men vi ønsker at arrayen skal være i synkende rekkefølge: Fra høyeste til laveste verdi\n",
    "\n",
    "sortert_arr_synkende = sortert_arr_stigende[::-1]\n",
    "\n",
    "#Skriv ut den sorterte arrayen\n",
    "\n",
    "print(sortert_arr_synkende)"
   ]
  },
  {
   "cell_type": "code",
   "execution_count": null,
   "id": "ed24421a",
   "metadata": {},
   "outputs": [],
   "source": [
    "# konverter arrayen tilbake til DataFrame\n",
    "sortert_energy_data = pd.DataFrame(sortert_arr_synkende, columns=energy_data.columns)\n",
    "\n",
    "# Vis de 5 første radene av DataFrame\n",
    "sortert_energy_data.head()"
   ]
  },
  {
   "cell_type": "code",
   "execution_count": null,
   "id": "f7c63c0a",
   "metadata": {},
   "outputs": [],
   "source": []
  }
 ],
 "metadata": {
  "kernelspec": {
   "display_name": "Python 3 (ipykernel)",
   "language": "python",
   "name": "python3"
  },
  "language_info": {
   "codemirror_mode": {
    "name": "ipython",
    "version": 3
   },
   "file_extension": ".py",
   "mimetype": "text/x-python",
   "name": "python",
   "nbconvert_exporter": "python",
   "pygments_lexer": "ipython3",
   "version": "3.11.5"
  }
 },
 "nbformat": 4,
 "nbformat_minor": 5
}
