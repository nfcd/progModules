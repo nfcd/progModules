{
 "cells": [
  {
   "cell_type": "markdown",
   "id": "7a5337b4",
   "metadata": {},
   "source": [
    "# Module 8: Reading data\n",
    "\n",
    "The key function for working with files in Python is the <code>open()</code> function. This function takes two parameters; filename, and mode. There are four different methods (modes) for opening a file:\n",
    "\n",
    "\"r\" - Read - Default value. Reads the file, returns an error if the file does not exist\n",
    "\n",
    "\"a\" - Append - Opens a file to append data, creates the file if it does not exist\n",
    "\n",
    "\"w\" - Write - Opens a file for writing, creates the file if it does not exist\n",
    "\n",
    "\"x\" - Create - Creates the file, returns an error if the file exists\n",
    "\n",
    "\"t\" - Text - Default value. Text mode\n",
    "\n",
    "\"b\" - Binary - Binary mode (e.g. images)\n",
    "\n",
    "## Reading text files"
   ]
  },
  {
   "cell_type": "code",
   "execution_count": null,
   "id": "7fdba0b0",
   "metadata": {},
   "outputs": [],
   "source": [
    "# To read a file with the function open, we just need to specify the name of the file\n",
    "# This reads the file and returns a file object\n",
    "f = open(\"demofile.txt\") # file is in the same folder\n",
    "\n",
    "# print the content of the file use the file method read\n",
    "print(f.read())"
   ]
  },
  {
   "cell_type": "markdown",
   "id": "cc8a780b",
   "metadata": {},
   "source": [
    "To read text data into Python, you can also use the <code>pandas</code> library. The <code>pandas</code> library provides the <code>read_csv()</code> function, which is versatile and can handle various types of delimited text files, including comma delimited text files a our <code>demofile.txt</code>.\n",
    "\n",
    "Here's an example of how to read the same file using <code>pandas</code>:"
   ]
  },
  {
   "cell_type": "code",
   "execution_count": null,
   "id": "b64528f9",
   "metadata": {},
   "outputs": [],
   "source": [
    "import pandas as pd\n",
    "\n",
    "# Read file into a DataFrame called data\n",
    "data = pd.read_csv('demofile.txt') # file is in the same folder \n",
    "\n",
    "# Display the first five rows of the DataFrame using the function head\n",
    "data.head()"
   ]
  },
  {
   "cell_type": "markdown",
   "id": "caffc64a",
   "metadata": {},
   "source": [
    "Note that the file is read as a <code>DataFrame</code>, a <code>pandas</code> data structure containing labeled axes (rows and columns). The <code>DataFrame</code> is a powerful structure, and we will use it a lot from now on. \n",
    "\n",
    "## Reading Excel Files:\n",
    "\n",
    "To read Excel files into Python, we can also use <code>pandas</code>. <code>pandas</code> provides the <code>read_excel()</code> function to read Excel files.\n",
    "\n",
    "Here's an example of how to read an Excel file using <code>pandas</code>:"
   ]
  },
  {
   "cell_type": "code",
   "execution_count": null,
   "id": "5771fb1e",
   "metadata": {},
   "outputs": [],
   "source": [
    "import pandas as pd\n",
    "\n",
    "# Read Excel file into a DataFrame\n",
    "data = pd.read_excel('data.xlsx', sheet_name='Sheet1') # file is in the same folder\n",
    "\n",
    "# Display first five rows of the DataFrame\n",
    "data.head()"
   ]
  },
  {
   "cell_type": "markdown",
   "id": "01078f28",
   "metadata": {},
   "source": [
    "### Skipping rows and choosing certain columns:\n",
    "\n",
    "When you read or import data it is important to look at the actual file to see which data you are interested in and where the data is located. Sometimes you dont need all of the data! \n",
    "\n",
    "Let's look at the Excel file <code>energy_data.xlsx</code>:"
   ]
  },
  {
   "cell_type": "code",
   "execution_count": null,
   "id": "01769180",
   "metadata": {},
   "outputs": [],
   "source": [
    "# Read Excel file as a DataFrame\n",
    "energy_data = pd.read_excel('energy_data.xlsx', sheet_name='Sheet1')\n",
    "\n",
    "# Display first five rows of the DataFrame\n",
    "energy_data.head()"
   ]
  },
  {
   "cell_type": "markdown",
   "id": "165fc874",
   "metadata": {},
   "source": [
    "You can see that there are no values in the first five rows of the DataFrame. This is because in the excel file, the first 9 rows are empty. Hence, we need to tell <code>pandas</code> to skip the first 9 rows, the 10th row will be the header:"
   ]
  },
  {
   "cell_type": "code",
   "execution_count": null,
   "id": "56c42dde",
   "metadata": {},
   "outputs": [],
   "source": [
    "# Read Excel file and skip rows\n",
    "energy_data = pd.read_excel('energy_data.xlsx', sheet_name='Sheet1',skiprows=9)\n",
    "\n",
    "energy_data.head()"
   ]
  },
  {
   "cell_type": "markdown",
   "id": "dde41c92",
   "metadata": {},
   "source": [
    "Now this is correct. Suppose we are only interested in the name of the country, the energy consumed per year in Billion Kwh, and the population in millions. The easiest is to extract the columns by their indexes. To do this, we can use the <code>iloc</code> function:"
   ]
  },
  {
   "cell_type": "code",
   "execution_count": null,
   "id": "cd12777e",
   "metadata": {},
   "outputs": [],
   "source": [
    "# Extract selected columns in the DataFrame\n",
    "# To do this, we use the function iloc and pass all rows in columns\n",
    "# with indexes 0, 1, and 2\n",
    "energy_data_sel = energy_data.iloc[:,[0,1,2]]\n",
    "\n",
    "energy_data_sel.head()"
   ]
  },
  {
   "cell_type": "markdown",
   "id": "e1477d21",
   "metadata": {},
   "source": [
    "## The DataFrame makes easy data analysis\n",
    "\n",
    "The DataFrame is a powerful structure for data analysis. Lets sort the countries in the <code>energy_data</code> DataFrame from the highest to the lowest energy consumption. To do that, we use the DataFrame <code>sort_value()</code> function, pass the <code>Energy Consumed</code> column and also specify that we want to sort that column in a descending way, from the highest to the lowest values:"
   ]
  },
  {
   "cell_type": "code",
   "execution_count": null,
   "id": "0498caf4",
   "metadata": {},
   "outputs": [],
   "source": [
    "# sort energy data by Energy Consumed in a descending way: from highest to lowest\n",
    "sorted_energy_data = energy_data.sort_values(by=\"Energy Consumed\", ascending=False)\n",
    "\n",
    "# Display the top 5 countries\n",
    "sorted_energy_data.head()"
   ]
  },
  {
   "cell_type": "markdown",
   "id": "aec89c98",
   "metadata": {},
   "source": [
    "The DataFrame is very powerful for statistics. Let's say we want to find out the overall statistics of the numerical columns in the <code>energy_data</code> DataFrame. This is easy, we just need to use the DataFrame <code>describe()</code> method:"
   ]
  },
  {
   "cell_type": "code",
   "execution_count": null,
   "id": "23b6c7d6",
   "metadata": {},
   "outputs": [],
   "source": [
    "energy_data.describe() # Compute the statistics of numerical values columns"
   ]
  },
  {
   "cell_type": "markdown",
   "id": "a495307d",
   "metadata": {},
   "source": [
    "With just one line of code, we can compute the maximum, minimum, mean, standard deviation, and percentile values of these columns. That is amazing!\n",
    "\n",
    "## Converting DataFrame to an array\n",
    "\n",
    "We can also convert the DataFrame to a numpy array and vice versa. For this, we just use the DataFrame <code>values</code> method:"
   ]
  },
  {
   "cell_type": "code",
   "execution_count": null,
   "id": "1af67326",
   "metadata": {
    "scrolled": true
   },
   "outputs": [],
   "source": [
    "# Convert DataFrame to NumPy array\n",
    "arr = energy_data.values\n",
    "\n",
    "# print array\n",
    "print(arr)"
   ]
  },
  {
   "cell_type": "markdown",
   "id": "325a35fe",
   "metadata": {},
   "source": [
    "Similarly we can sort the data in the array: "
   ]
  },
  {
   "cell_type": "code",
   "execution_count": null,
   "id": "cb5612fd",
   "metadata": {
    "scrolled": false
   },
   "outputs": [],
   "source": [
    "# Sort the array based on Energy Consumed column (index = 1)\n",
    "# This sorts the array in ascending order\n",
    "sorted_arr_asc = arr[arr[:, 1].argsort()]\n",
    "\n",
    "# But we want the array in descending order: From largest to lowest value\n",
    "sorted_arr_desc = sorted_arr_asc[::-1]\n",
    "\n",
    "# print the sorted array\n",
    "print(sorted_arr_desc)"
   ]
  },
  {
   "cell_type": "markdown",
   "id": "06aaae95",
   "metadata": {},
   "source": [
    "Finally, we can convert the sorted array back into a DataFrame:"
   ]
  },
  {
   "cell_type": "code",
   "execution_count": null,
   "id": "c10dcb89",
   "metadata": {},
   "outputs": [],
   "source": [
    "# Convert the array back to DataFrame\n",
    "sorted_energy_data = pd.DataFrame(sorted_arr_desc, columns=energy_data.columns)\n",
    "\n",
    "# Display first 5 rows of DataFrame\n",
    "sorted_energy_data.head()"
   ]
  },
  {
   "cell_type": "markdown",
   "id": "0cb97f8d",
   "metadata": {},
   "source": [
    "This is a brief introduction to reading files with Python. It also describes the powerful functionality of the <code>pandas</code> <code>DataFrame</code>. In the following notebooks, we will use these functionalities to accomplish more complex but exciting tasks."
   ]
  }
 ],
 "metadata": {
  "kernelspec": {
   "display_name": "Python 3 (ipykernel)",
   "language": "python",
   "name": "python3"
  },
  "language_info": {
   "codemirror_mode": {
    "name": "ipython",
    "version": 3
   },
   "file_extension": ".py",
   "mimetype": "text/x-python",
   "name": "python",
   "nbconvert_exporter": "python",
   "pygments_lexer": "ipython3",
   "version": "3.11.5"
  }
 },
 "nbformat": 4,
 "nbformat_minor": 5
}
