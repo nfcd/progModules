{
 "cells": [
  {
   "cell_type": "markdown",
   "id": "bbee9a71",
   "metadata": {},
   "source": [
    "# Modul 9: Plotting av data\n",
    "\n",
    "I denne modulen vil vi dekke hvordan du kan visualisere data ved å plotte grafer og linjer ved hjelp av bibliotekene <code>numpy</code> og <code>matplotlib</code>.\n",
    "\n",
    "## Importering av biblioteker og oppretting av eksempeldata"
   ]
  },
  {
   "cell_type": "code",
   "execution_count": null,
   "id": "b2097d34",
   "metadata": {},
   "outputs": [],
   "source": [
    "# Importerer de nødvendige bibliotekene\n",
    "import matplotlib.pyplot as plt\n",
    "import numpy as np"
   ]
  },
  {
   "cell_type": "code",
   "execution_count": null,
   "id": "d222c1e6",
   "metadata": {},
   "outputs": [],
   "source": [
    "# Oppretter eksempeldata for demonstrasjon.\n",
    "x = np.linspace(0, 10, 100)\n",
    "y = np.sin(x)"
   ]
  },
  {
   "cell_type": "markdown",
   "id": "e683463c",
   "metadata": {},
   "source": [
    "## Linjediagram\n"
   ]
  },
  {
   "cell_type": "code",
   "execution_count": null,
   "id": "a5087eda",
   "metadata": {},
   "outputs": [],
   "source": [
    "#Linjediagram\n",
    "plt.figure(figsize=(8, 4))\n",
    "plt.plot(x, y, label='Sinus', color='blue', linestyle='-', linewidth=2)\n",
    "plt.title('Enkel Linje graf')\n",
    "plt.xlabel('X-axis')\n",
    "plt.ylabel('Y-axis')\n",
    "plt.legend()\n",
    "plt.grid(True)\n",
    "plt.show()"
   ]
  },
  {
   "cell_type": "markdown",
   "id": "e19f72db",
   "metadata": {},
   "source": [
    "## Spredningsdiagram\n"
   ]
  },
  {
   "cell_type": "code",
   "execution_count": null,
   "id": "b0cdc0f4",
   "metadata": {},
   "outputs": [],
   "source": [
    "# Spredningsdiagram\n",
    "plt.figure(figsize=(8, 4))\n",
    "plt.scatter(x, y, label='Sinus', color='red', marker='o')\n",
    "plt.title('Spredningsdiagram')\n",
    "plt.xlabel('X-axis')\n",
    "plt.ylabel('Y-axis')\n",
    "plt.legend()\n",
    "plt.grid(True)\n",
    "plt.show()"
   ]
  },
  {
   "cell_type": "markdown",
   "id": "885112a2",
   "metadata": {},
   "source": [
    "## Stolpediagram"
   ]
  },
  {
   "cell_type": "code",
   "execution_count": null,
   "id": "4ee210ed",
   "metadata": {},
   "outputs": [],
   "source": [
    "# Stolpediagram\n",
    "categories = ['Kategori A', 'Kategori B', 'Kategori C', 'Kategori D']\n",
    "values = [25, 50, 30, 45]\n",
    "\n",
    "plt.figure(figsize=(8, 4))\n",
    "plt.bar(categories, values, label='Stolpediagram', color='green')\n",
    "plt.title('Stolpediagram')\n",
    "plt.xlabel('Kategorier')\n",
    "plt.ylabel('Verdier')\n",
    "plt.legend()\n",
    "plt.grid(axis='y')\n",
    "plt.show()"
   ]
  },
  {
   "cell_type": "markdown",
   "id": "7766ae05",
   "metadata": {},
   "source": [
    "## Histogram"
   ]
  },
  {
   "cell_type": "code",
   "execution_count": null,
   "id": "46102e4a",
   "metadata": {},
   "outputs": [],
   "source": [
    "# Histogram\n",
    "\n",
    "data = np.random.randn(1000)\n",
    "\n",
    "plt.figure(figsize=(8, 4))\n",
    "plt.hist(data, bins=20, edgecolor='black', alpha=0.7)\n",
    "plt.title('Histogram')\n",
    "plt.xlabel('Verdi')\n",
    "plt.ylabel('Frekvens')\n",
    "plt.grid(axis='y')\n",
    "plt.show()"
   ]
  },
  {
   "cell_type": "markdown",
   "id": "80957e22",
   "metadata": {},
   "source": [
    "## Tilpassing\n"
   ]
  },
  {
   "cell_type": "code",
   "execution_count": null,
   "id": "a5f1917e",
   "metadata": {},
   "outputs": [],
   "source": [
    "# Tilpassning av plottet\n",
    "plt.figure(figsize=(8, 4))\n",
    "plt.plot(x, y, label='Sine Curve', color='blue', linestyle='-', linewidth=2, marker='o', markersize=4, markerfacecolor='red', markeredgecolor='black')\n",
    "plt.title('Endret linjepgraf')\n",
    "plt.xlabel('X-axis')\n",
    "plt.ylabel('Y-axis')\n",
    "plt.legend()\n",
    "plt.grid(True)\n",
    "plt.show()"
   ]
  },
  {
   "cell_type": "markdown",
   "id": "15cfec0b",
   "metadata": {},
   "source": [
    "## Delplott"
   ]
  },
  {
   "cell_type": "markdown",
   "id": "7924fcf7",
   "metadata": {},
   "source": [
    "Denne delen viser hvordan du oppretter et rutenett av delplott innenfor en enkel figur og tilpasser hvert delplott med ulike typer plott (linjediagram, spredningsdiagram, stolpediagram, histogram) og titler. Dette kan være nyttig for å sammenligne og visualisere flere datasett eller aspekter av data innenfor en enkel figur.\n"
   ]
  },
  {
   "cell_type": "code",
   "execution_count": null,
   "id": "e68dd9e7",
   "metadata": {},
   "outputs": [],
   "source": [
    "# Delplott\n",
    "plt.figure(figsize=(12, 6))\n",
    "\n",
    "# Delplott 1\n",
    "plt.subplot(2, 2, 1)\n",
    "plt.plot(x, y, color='blue')\n",
    "plt.title('Delplott 1')\n",
    "\n",
    "# Delplott 2\n",
    "plt.subplot(2, 2, 2)\n",
    "plt.scatter(x, y, color='red')\n",
    "plt.title('Delplott 2')\n",
    "\n",
    "# Delplott 3\n",
    "plt.subplot(2, 2, 3)\n",
    "plt.bar(categories, values, color='green')\n",
    "plt.title('Delplott 3')\n",
    "\n",
    "# Delplott 4\n",
    "plt.subplot(2, 2, 4)\n",
    "plt.hist(data, bins=20, edgecolor='black', alpha=0.7)\n",
    "plt.title('Delplott 4')\n",
    "\n",
    "plt.tight_layout()\n",
    "plt.show()"
   ]
  },
  {
   "cell_type": "markdown",
   "id": "dd013f05",
   "metadata": {},
   "source": [
    "## PDF og CDF kurver\n",
    "\n",
    "Vi kan også bruke jupyter notatboken til å visualisere sannsynlighetstettheten (PDF) og den kumulative fordelingen (CDF), som er grunnleggende begreper innenfor sannsynlighet og statistikk. Disse begrepene brukes til å beskrive og analysere sannsynlighetsfordelinger.\n",
    "\n",
    "<code>PDF</code> representerer sannsynlighetsfordelingen til en kontinuerlig tilfeldig variabel. Den viser hvordan sannsynligheten for at variabelen tar en bestemt verdi eller faller innenfor et visst område, er fordelt over hele området. Dette er nyttig for å vurdere sannsynligheten for spesifikke resultater, estimere percentiler og lage probabilistiske forutsigelser.\n",
    "\n",
    "<code>CDF</code> representerer den kumulative sannsynligheten for at en tilfeldig variabel tar en verdi som er mindre enn eller lik et gitt punkt. Med andre ord viser den sannsynligheten for at variabelen er mindre enn eller lik en bestemt verdi. Dette er nyttig for å vurdere sannsynligheten for spesifikke resultater eller områder og for å forstå den generelle oppførselen til tilfeldige variabler. Disse begrepene er viktige innenfor områder som risikoanalyse, pålitelighetsteknikk og kvalitetskontroll."
   ]
  },
  {
   "cell_type": "code",
   "execution_count": null,
   "id": "8a029024",
   "metadata": {},
   "outputs": [],
   "source": [
    "# Sannsynlighetstetthet (PDF)\n",
    "\n",
    "# Oppretter tilfeldig data til demonstrasjonen\n",
    "random_data = np.random.normal(0, 1, 1000)\n",
    "\n",
    "# Lager et PDF plott\n",
    "plt.figure(figsize=(8, 4))\n",
    "plt.hist(random_data, bins=30, density=True, alpha=0.7, color='blue', edgecolor='black')\n",
    "plt.title('PDF (Probability Density Function)(Sannsynlighetstettheten)')\n",
    "plt.xlabel('Verdi')\n",
    "plt.ylabel('Sannsynlighetstetthet')\n",
    "\n",
    "# Tilpasset PDF plott\n",
    "from scipy.stats import norm\n",
    "\n",
    "# Oppretter data som følger normalfordeling\n",
    "data = np.random.normal(0, 1, 1000)\n",
    "\n",
    "# PDF\n",
    "plt.figure(figsize=(8, 4))\n",
    "plt.hist(data, bins=30, density=True, alpha=0.7, color='green', edgecolor='black')\n",
    "x_range = np.linspace(-3, 3, 100)\n",
    "pdf_values = norm.pdf(x_range, 0, 1)\n",
    "plt.plot(x_range, pdf_values, color='blue', linestyle='--', linewidth=2)\n",
    "plt.title('Tilpasset PDF')\n",
    "plt.xlabel('Verdi')\n",
    "plt.ylabel('Sannsynlighetstetthet')"
   ]
  },
  {
   "cell_type": "code",
   "execution_count": null,
   "id": "aab8346c",
   "metadata": {},
   "outputs": [],
   "source": [
    "#Kummulativfordelingsfunksjon (CDF)\n",
    "\n",
    "# Lager et CDF\n",
    "plt.figure(figsize=(8, 4))\n",
    "plt.hist(random_data, bins=30, density=True, cumulative=True, alpha=0.7, color='red', edgecolor='black')\n",
    "plt.title('CDF (Cumulative Distribution Function)(Kumulativ fordeling)')\n",
    "plt.xlabel('Verdi')\n",
    "plt.ylabel('Kumulativ sannsynlighet')\n",
    "\n",
    "# Tilpasser CDF\n",
    "\n",
    "# CDF\n",
    "plt.figure(figsize=(8, 4))\n",
    "plt.hist(data, bins=30, density=True, cumulative=True, alpha=0.7, color='purple', edgecolor='black')\n",
    "cdf_values = norm.cdf(x_range, 0, 1)\n",
    "plt.plot(x_range, cdf_values, color='red', linestyle='--', linewidth=2)\n",
    "plt.title('Tilpasset CDF')\n",
    "plt.xlabel('Verdi')\n",
    "plt.ylabel('Kumulativ sannsynlighet')\n",
    "\n",
    "plt.tight_layout()\n",
    "plt.show()"
   ]
  },
  {
   "cell_type": "markdown",
   "id": "17dfc68e",
   "metadata": {},
   "source": [
    "## Eksempel: PLotting av temperatur endringer over tid.\n",
    "\n",
    "La oss forsøke å lage et eksempel på hvordan vi kan plotte endringen i temperatur over en tidsperiode. I dette eksempelet henter vi <code>temperatur_data</code> fra denne nettsiden: https://www.ncei.noaa.gov/access/monitoring/climate-at-a-glance/global/time-series\n",
    "\n",
    "På nettsiden kan du eksportere data som en <code>CSV</code>-fil med temperaturavvik relativt til koordinatavvik i forhold til gjennomsnittet for perioden 1991-2020. Alle andre regionale avvik er i forhold til gjennomsnittet for perioden 1910-2000.\n",
    "\n",
    "Deretter kan vi bruke <code>pandas</code> til å lese <code>CSV</code>-filen og <code>matplotlib</code> til å plotte dataene etter at vi har lest dem!"
   ]
  },
  {
   "cell_type": "code",
   "execution_count": null,
   "id": "17f3d77c",
   "metadata": {},
   "outputs": [],
   "source": [
    "# Importerer nødvendige bibliotek\n",
    "import pandas as pd\n",
    "import matplotlib.pyplot as plt\n",
    "\n",
    "# Leser inn data fra CSV fil\n",
    "data = pd.read_csv('temperature_data.csv')\n",
    "\n",
    "# Hent ut ´year´og 'Anomaly' kolonner\n",
    "years = data['Year']\n",
    "anomaly = data['Anomaly']\n",
    "\n",
    "# Lager linje plott\n",
    "plt.figure(figsize=(12, 6))\n",
    "plt.plot(years, anomaly, marker='o', linestyle='-', color='b', label='Temp avik')\n",
    "plt.title('Globale temperatur avik de siste 80 årene ')\n",
    "plt.xlabel('År')\n",
    "plt.ylabel('Temperatur avik (°C)')\n",
    "plt.grid(True)\n",
    "plt.legend()\n",
    "plt.show()"
   ]
  },
  {
   "cell_type": "code",
   "execution_count": null,
   "id": "7f8e611d",
   "metadata": {},
   "outputs": [],
   "source": []
  }
 ],
 "metadata": {
  "kernelspec": {
   "display_name": "Python 3 (ipykernel)",
   "language": "python",
   "name": "python3"
  },
  "language_info": {
   "codemirror_mode": {
    "name": "ipython",
    "version": 3
   },
   "file_extension": ".py",
   "mimetype": "text/x-python",
   "name": "python",
   "nbconvert_exporter": "python",
   "pygments_lexer": "ipython3",
   "version": "3.11.5"
  }
 },
 "nbformat": 4,
 "nbformat_minor": 5
}
