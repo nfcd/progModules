{
 "cells": [
  {
   "cell_type": "markdown",
   "id": "ba8f9bb9",
   "metadata": {},
   "source": [
    "# Module 9: Plotting data\n",
    "\n",
    "In this module, we will cover how to visualise data by plotting graphs and lines using the <code>numpy</code> and <code>matplotlib</code> libraries.\n",
    "\n",
    "## Importing libraries and creating sample data"
   ]
  },
  {
   "cell_type": "code",
   "execution_count": null,
   "id": "d7845af1",
   "metadata": {},
   "outputs": [],
   "source": [
    "# Importing the necessary libraries\n",
    "import matplotlib.pyplot as plt\n",
    "import numpy as np"
   ]
  },
  {
   "cell_type": "code",
   "execution_count": null,
   "id": "98e5034e",
   "metadata": {},
   "outputs": [],
   "source": [
    "# Creating some sample data for demonstration\n",
    "x = np.linspace(0, 10, 100) # 100 points from 0 to 10\n",
    "y = np.sin(x)"
   ]
  },
  {
   "cell_type": "markdown",
   "id": "1e9fc105",
   "metadata": {},
   "source": [
    "## Line Plot"
   ]
  },
  {
   "cell_type": "code",
   "execution_count": null,
   "id": "d3b77b16",
   "metadata": {},
   "outputs": [],
   "source": [
    "# Basic Line Plot\n",
    "plt.figure(figsize=(8, 4))\n",
    "plt.plot(x, y, label='Sine Curve', color='blue', linestyle='-', linewidth=2)\n",
    "plt.title('Basic Line Plot')\n",
    "plt.xlabel('X-axis')\n",
    "plt.ylabel('Y-axis')\n",
    "plt.legend()\n",
    "plt.grid(True)\n",
    "plt.show()"
   ]
  },
  {
   "cell_type": "markdown",
   "id": "6b27c2a5",
   "metadata": {},
   "source": [
    "## Scatter Plot"
   ]
  },
  {
   "cell_type": "code",
   "execution_count": null,
   "id": "ab9cdf47",
   "metadata": {},
   "outputs": [],
   "source": [
    "# Scatter Plot\n",
    "plt.figure(figsize=(8, 4))\n",
    "plt.scatter(x, y, label='Scatter Plot', color='red', marker='o')\n",
    "plt.title('Scatter Plot')\n",
    "plt.xlabel('X-axis')\n",
    "plt.ylabel('Y-axis')\n",
    "plt.legend()\n",
    "plt.grid(True)\n",
    "plt.show()"
   ]
  },
  {
   "cell_type": "markdown",
   "id": "c41dddf4",
   "metadata": {},
   "source": [
    "## Bar Charts"
   ]
  },
  {
   "cell_type": "code",
   "execution_count": null,
   "id": "cdb5d638",
   "metadata": {},
   "outputs": [],
   "source": [
    "# Bar Chart\n",
    "categories = ['Category A', 'Category B', 'Category C', 'Category D']\n",
    "values = [25, 50, 30, 45]\n",
    "\n",
    "plt.figure(figsize=(8, 4))\n",
    "plt.bar(categories, values, label='Bar Chart', color='green')\n",
    "plt.title('Bar Chart')\n",
    "plt.xlabel('Categories')\n",
    "plt.ylabel('Values')\n",
    "plt.legend()\n",
    "plt.grid(axis='y')\n",
    "plt.show()"
   ]
  },
  {
   "cell_type": "markdown",
   "id": "9ef5685e",
   "metadata": {},
   "source": [
    "## Histograms"
   ]
  },
  {
   "cell_type": "code",
   "execution_count": null,
   "id": "4789706d",
   "metadata": {},
   "outputs": [],
   "source": [
    "# Histogram\n",
    "\n",
    "data = np.random.randn(1000)\n",
    "\n",
    "plt.figure(figsize=(8, 4))\n",
    "plt.hist(data, bins=20, edgecolor='black', alpha=0.7)\n",
    "plt.title('Histogram')\n",
    "plt.xlabel('Value')\n",
    "plt.ylabel('Frequency')\n",
    "plt.grid(axis='y')\n",
    "plt.show()"
   ]
  },
  {
   "cell_type": "markdown",
   "id": "07eb5d5a",
   "metadata": {},
   "source": [
    "## Customizing Plots"
   ]
  },
  {
   "cell_type": "code",
   "execution_count": null,
   "id": "4376a787",
   "metadata": {},
   "outputs": [],
   "source": [
    "# Customizing Plot Appearance\n",
    "plt.figure(figsize=(8, 4))\n",
    "plt.plot(x, y, label='Sine Curve', color='blue', linestyle='-', linewidth=2, marker='o', markersize=4, markerfacecolor='red', markeredgecolor='black')\n",
    "plt.title('Customized Line Plot')\n",
    "plt.xlabel('X-axis')\n",
    "plt.ylabel('Y-axis')\n",
    "plt.legend()\n",
    "plt.grid(True)\n",
    "plt.show()"
   ]
  },
  {
   "cell_type": "markdown",
   "id": "d92bf737",
   "metadata": {},
   "source": [
    "## Subplots\n",
    "\n",
    "This section demonstrates how to create a grid of subplots within a single figure and customize each subplot with different types of plots (line plot, scatter plot, bar chart, histogram) and titles. This can be a useful technique for comparing and visualizing multiple datasets or aspects of data within a single figure."
   ]
  },
  {
   "cell_type": "code",
   "execution_count": null,
   "id": "35f6ce09",
   "metadata": {},
   "outputs": [],
   "source": [
    "# Subplots\n",
    "plt.figure(figsize=(12, 6))\n",
    "\n",
    "# Subplot 1\n",
    "plt.subplot(2, 2, 1)\n",
    "plt.plot(x, y, color='blue')\n",
    "plt.title('Subplot 1')\n",
    "\n",
    "# Subplot 2\n",
    "plt.subplot(2, 2, 2)\n",
    "plt.scatter(x, y, color='red')\n",
    "plt.title('Subplot 2')\n",
    "\n",
    "# Subplot 3\n",
    "plt.subplot(2, 2, 3)\n",
    "plt.bar(categories, values, color='green')\n",
    "plt.title('Subplot 3')\n",
    "\n",
    "# Subplot 4\n",
    "plt.subplot(2, 2, 4)\n",
    "plt.hist(data, bins=20, edgecolor='black', alpha=0.7)\n",
    "plt.title('Subplot 4')\n",
    "\n",
    "plt.tight_layout()\n",
    "plt.show()"
   ]
  },
  {
   "cell_type": "markdown",
   "id": "58be0a41",
   "metadata": {},
   "source": [
    "## PDF and CDF curves"
   ]
  },
  {
   "cell_type": "markdown",
   "id": "111c9909",
   "metadata": {},
   "source": [
    "Let's visualise the Probability Density Function (PDF) and the Cumulative Density Function (CDF), which are fundamental concepts in probability and statistics, and they are used to describe and analyze probability distributions.\n",
    "\n",
    "The <code>PDF</code> represents the probability distribution of a continuous random variable. It shows how the probability of the variable taking a specific value or falling within a certain range is distributed across its entire range. It is useful for assesing the likelihood of specific outcomes, estimate percentiles, and make probabilistic predictions\n",
    "\n",
    "The <code>CDF</code> represents the cumulative probability of a random variable taking on a value less than or equal to a given point. In other words, it shows the probability that the variable is less than or equal to a particular value. It is useful for assessing the likelihood of specific outcomes or ranges, and understand the overall behavior of random variables. \n",
    "\n",
    "The <code>PDF</code> and <code>CDF</code> are essential in risk analysis, reliability engineering, and quality control"
   ]
  },
  {
   "cell_type": "code",
   "execution_count": null,
   "id": "ac5dba9e",
   "metadata": {},
   "outputs": [],
   "source": [
    "# Probability Density Function (PDF)\n",
    "\n",
    "# Generate some random data for demonstration\n",
    "random_data = np.random.normal(0, 1, 1000)\n",
    "\n",
    "# Create a PDF plot\n",
    "plt.figure(figsize=(8, 4))\n",
    "plt.hist(random_data, bins=30, density=True, alpha=0.7, color='blue', edgecolor='black')\n",
    "plt.title('PDF (Probability Density Function)')\n",
    "plt.xlabel('Value')\n",
    "plt.ylabel('Probability Density')\n",
    "plt.axis([-4, 4, 0, 0.5])\n",
    "\n",
    "# Customized PDF\n",
    "from scipy.stats import norm\n",
    "\n",
    "# Generate data following a normal distribution\n",
    "data = np.random.normal(0, 1, 1000)\n",
    "\n",
    "# PDF\n",
    "plt.figure(figsize=(8, 4))\n",
    "plt.hist(data, bins=30, density=True, alpha=0.7, color='green', edgecolor='black')\n",
    "x_range = np.linspace(-3, 3, 100)\n",
    "pdf_values = norm.pdf(x_range, 0, 1)\n",
    "plt.plot(x_range, pdf_values, color='blue', linestyle='--', linewidth=2)\n",
    "plt.title('Customized PDF')\n",
    "plt.xlabel('Value')\n",
    "plt.ylabel('Probability Density')\n",
    "plt.axis([-4, 4, 0, 0.5]);"
   ]
  },
  {
   "cell_type": "code",
   "execution_count": null,
   "id": "cd5f0193",
   "metadata": {},
   "outputs": [],
   "source": [
    "#Cumulative Distribution Function (CDF)\n",
    "\n",
    "# Create a CDF plot\n",
    "plt.figure(figsize=(8, 4))\n",
    "plt.hist(random_data, bins=30, density=True, cumulative=True, alpha=0.7, color='red', edgecolor='black')\n",
    "plt.title('CDF (Cumulative Distribution Function)')\n",
    "plt.xlabel('Value')\n",
    "plt.ylabel('Cumulative Probability')\n",
    "plt.axis([-4, 4, 0, 1.1])\n",
    "\n",
    "# Customized CDF\n",
    "\n",
    "# CDF\n",
    "plt.figure(figsize=(8, 4))\n",
    "plt.hist(data, bins=30, density=True, cumulative=True, alpha=0.7, color='purple', edgecolor='black')\n",
    "cdf_values = norm.cdf(x_range, 0, 1)\n",
    "plt.plot(x_range, cdf_values, color='red', linestyle='--', linewidth=2)\n",
    "plt.title('Customized CDF')\n",
    "plt.xlabel('Value')\n",
    "plt.ylabel('Cumulative Probability')\n",
    "plt.axis([-4, 4, 0, 1.1]);"
   ]
  },
  {
   "cell_type": "markdown",
   "id": "81cd04f9",
   "metadata": {},
   "source": [
    "## Example of plotting temperature changes over period of time"
   ]
  },
  {
   "cell_type": "markdown",
   "id": "55f1ddc3",
   "metadata": {},
   "source": [
    "Lets try to make an example on how we can plot the change of temperature over a period of time. In this example, we obtain the <code>temperature_data</code> from this website: https://www.ncei.noaa.gov/access/monitoring/climate-at-a-glance/global/time-series \n",
    "\n",
    "On the website it allows you to export data as a <code>CSV</code> file of the temperature anomalies relative to the coordinate anomalies are with respect to the 1991-2020 average. All other regional anomalies are with respect to the 1910-2000 average.\n",
    "\n",
    "Then we can use <code>pandas</code> to read the <code>CSV</code> file and <code>motplotlib</code> to plot the data after reading it!"
   ]
  },
  {
   "cell_type": "code",
   "execution_count": null,
   "id": "5c138993",
   "metadata": {},
   "outputs": [],
   "source": [
    "import pandas as pd\n",
    "import matplotlib.pyplot as plt\n",
    "\n",
    "# Read the data from the CSV file\n",
    "\n",
    "data = pd.read_csv('temperature_data.csv')\n",
    "\n",
    "# Extract the 'Year' and 'Anomaly' columns\n",
    "years = data['Year']\n",
    "anomaly = data['Anomaly']\n",
    "\n",
    "# Create a line plot\n",
    "plt.figure(figsize=(12, 6))\n",
    "plt.plot(years, anomaly, marker='o', linestyle='-', color='b', label='Temperature Anomaly')\n",
    "plt.title('Global Temperature Anomaly Over the Past 80 Years, relative to 1951-1980 average')\n",
    "plt.xlabel('Year')\n",
    "plt.ylabel('Temperature Anomaly (°C)')\n",
    "plt.grid(True)\n",
    "plt.legend()\n",
    "plt.show()"
   ]
  },
  {
   "cell_type": "code",
   "execution_count": null,
   "id": "295eba56",
   "metadata": {},
   "outputs": [],
   "source": []
  }
 ],
 "metadata": {
  "kernelspec": {
   "display_name": "Python 3 (ipykernel)",
   "language": "python",
   "name": "python3"
  },
  "language_info": {
   "codemirror_mode": {
    "name": "ipython",
    "version": 3
   },
   "file_extension": ".py",
   "mimetype": "text/x-python",
   "name": "python",
   "nbconvert_exporter": "python",
   "pygments_lexer": "ipython3",
   "version": "3.11.5"
  }
 },
 "nbformat": 4,
 "nbformat_minor": 5
}
