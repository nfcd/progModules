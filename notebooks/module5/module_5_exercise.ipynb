{
 "cells": [
  {
   "cell_type": "markdown",
   "id": "dc38c912",
   "metadata": {},
   "source": [
    "## Calculating temperature in the Earth's Crust\n",
    "\n",
    "The temperature in the Earth's crust increases as we go deeper, at an average rate of about 25-30 degrees Celsius per kilometer of depth. In this exercise, you will write a Python program that calculates the temperature in the Earths crust at a certain depth given by the user.\n",
    "\n",
    "1. Define a variable \"depth\" and set it to a value that the user of the program has to input.\n",
    "2. Define a variable \"gradient\" and set it to a value of 0.025-0.03, which represents the temperature increase per meter of depth.\n",
    "3. Write an if-else statement that calculates the temperature based on the depth and the gradient. Specifically, if the depth is less than or equal to 0, the program should ask for the input again, which has to be more than zero."
   ]
  },
  {
   "cell_type": "code",
   "execution_count": null,
   "id": "c6fb8c8f",
   "metadata": {},
   "outputs": [],
   "source": []
  },
  {
   "cell_type": "code",
   "execution_count": null,
   "id": "d2b56bfa",
   "metadata": {},
   "outputs": [],
   "source": []
  }
 ],
 "metadata": {
  "kernelspec": {
   "display_name": "Python 3 (ipykernel)",
   "language": "python",
   "name": "python3"
  },
  "language_info": {
   "codemirror_mode": {
    "name": "ipython",
    "version": 3
   },
   "file_extension": ".py",
   "mimetype": "text/x-python",
   "name": "python",
   "nbconvert_exporter": "python",
   "pygments_lexer": "ipython3",
   "version": "3.11.5"
  }
 },
 "nbformat": 4,
 "nbformat_minor": 5
}
