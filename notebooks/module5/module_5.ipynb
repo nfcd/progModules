{
 "cells": [
  {
   "cell_type": "markdown",
   "id": "4323cbe4",
   "metadata": {},
   "source": [
    "# Module 5: Conditional execution\n",
    "\n",
    " In Python, conditional execution refers to the process of executing a block of code based on a specific condition. This is done using the \"if-else\" statement.\n",
    "\n",
    "The \"if\" statement checks the value of the condition, which can be a Boolean expression, a variable, or any other expression that can be evaluated to True or False. If the condition is True, the code inside the first block is executed, and if the condition is False, the code inside the second block (the \"else\" block) is executed."
   ]
  },
  {
   "cell_type": "code",
   "execution_count": null,
   "id": "333c87cd",
   "metadata": {},
   "outputs": [],
   "source": [
    "#Simple if-else statement\n",
    "# Check if a number is positive or negative\n",
    "num = 10\n",
    "\n",
    "if num >= 0:\n",
    "    print(\"The number is positive\")\n",
    "else:\n",
    "    print(\"The number is negative\")"
   ]
  },
  {
   "cell_type": "code",
   "execution_count": null,
   "id": "871b5c98",
   "metadata": {},
   "outputs": [],
   "source": [
    "#Simple if-elif-else statement\n",
    "\n",
    "# Check the grade of a student based on their score\n",
    "score = 90\n",
    "\n",
    "if score >= 90:\n",
    "    grade = 'A'\n",
    "elif score >= 80:\n",
    "    grade = 'B'\n",
    "elif score >= 70:\n",
    "    grade = 'C'\n",
    "elif score >= 60:\n",
    "    grade = 'D'\n",
    "else:\n",
    "    grade = 'F'\n",
    "\n",
    "print(\"The student's grade is:\", grade)"
   ]
  },
  {
   "cell_type": "markdown",
   "id": "a4fd8202",
   "metadata": {},
   "source": [
    "## Comparison operators\n",
    "In Python, comparison operators are used to compare the values of two expressions and evaluate them to a Boolean value of True or False. Comparison operators are commonly used in conditional statements, loops, and other logical expressions. The following comparison operators are available in Python:\n",
    "\n",
    "Equal to: ==\n",
    "\n",
    "Not equal to: !=\n",
    "\n",
    "Greater than: >\n",
    "\n",
    "Less than: <\n",
    "\n",
    "Greater than or equal to: >=\n",
    "\n",
    "Less than or equal to: <=\n",
    "\n"
   ]
  },
  {
   "cell_type": "code",
   "execution_count": null,
   "id": "3138d203",
   "metadata": {},
   "outputs": [],
   "source": [
    "# Comparison operators example\n",
    "x = 5\n",
    "y = 10\n",
    "\n",
    "print(x == y)   # False\n",
    "print(x != y)   # True\n",
    "print(x > y)    # False\n",
    "print(x < y)    # True\n",
    "print(x >= y)   # False\n",
    "print(x <= y)   # True"
   ]
  },
  {
   "cell_type": "markdown",
   "id": "a30d9589",
   "metadata": {},
   "source": [
    "In this example, we're comparing the values of x and y using the different comparison operators. The output of each print statement is a Boolean value (True or False) depending on the result of the comparison.\n",
    "\n",
    "You can use these comparison operators in a variety of ways to compare different types of values, such as integers, floats, strings, and more"
   ]
  },
  {
   "cell_type": "markdown",
   "id": "63c7dcfd",
   "metadata": {},
   "source": [
    "# Logical operators\n",
    "\n",
    "In Python, logical operators are used to combine or modify the evaluation of Boolean expressions. There are three logical operators in Python: and, or, and not. These operators can be used to create more complex expressions and to control the flow of execution in programs.\n",
    "\n",
    "Here's a brief explanation of each logical operator:\n",
    "\n",
    "and: Evaluates to True if both expressions on either side of the operator are True.\n",
    "\n",
    "or: Evaluates to True if either one or both expressions on either side of the operator are True.\n",
    "\n",
    "not: Reverses the value of the Boolean expression. If the expression is True, not evaluates to False. If the \n",
    "expression is False, not evaluates to True."
   ]
  },
  {
   "cell_type": "code",
   "execution_count": null,
   "id": "07d2513a",
   "metadata": {},
   "outputs": [],
   "source": [
    "# Defining some variables\n",
    "x = 5\n",
    "y = 10\n",
    "\n",
    "# Using the logical AND operator\n",
    "if x > 0 and y < 15:\n",
    "    print(\"Both x is greater than 0 and y is less than 15.\")\n",
    "else:\n",
    "    print(\"Statements not true\")"
   ]
  },
  {
   "cell_type": "code",
   "execution_count": null,
   "id": "90e5b7c8",
   "metadata": {},
   "outputs": [],
   "source": [
    "# Using the logical OR operator\n",
    "if x > 0 or y < 0:\n",
    "    print(\"Either x is greater than 0 or y is less than 0.\")"
   ]
  },
  {
   "cell_type": "code",
   "execution_count": null,
   "id": "2e06c2d6",
   "metadata": {},
   "outputs": [],
   "source": [
    "# Using the logical NOT operator\n",
    "if not x == y:\n",
    "    print(\"x is not equal to y.\")"
   ]
  }
 ],
 "metadata": {
  "kernelspec": {
   "display_name": "Python 3 (ipykernel)",
   "language": "python",
   "name": "python3"
  },
  "language_info": {
   "codemirror_mode": {
    "name": "ipython",
    "version": 3
   },
   "file_extension": ".py",
   "mimetype": "text/x-python",
   "name": "python",
   "nbconvert_exporter": "python",
   "pygments_lexer": "ipython3",
   "version": "3.11.5"
  }
 },
 "nbformat": 4,
 "nbformat_minor": 5
}
