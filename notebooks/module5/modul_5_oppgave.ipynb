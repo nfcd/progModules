{
 "cells": [
  {
   "cell_type": "markdown",
   "id": "92d4b18f",
   "metadata": {},
   "source": [
    "## BEREGNING AV TEMPERATUR I JORDENS SKORPE\n",
    "\n",
    "Temperaturen I jordens skorpe øker jo dypere ned i jordskorpen vi går i gjennomsnitt med omtrent 25-30 grader Celsius per kilometer dybde. I denne oppgaven skal du skrive et Python-program som beregner temperaturen I jordens skorpe pa en bestemt dybde som brukeren angir.\n",
    "\n",
    "1. Definer en variabel \"dybde\" og sett den til en verdi som brukeren av programmet må oppgi.\n",
    "2. Definer en variabel \"gradient\" og sett den til en verdi pa 0.025-0.03, som representerer glennomsnittlig temperaturøkning per meter dybde.\n",
    "3. Skriv en if-else-setning som beregner temperature basert pa dybden og gradienten. Spesielt his dybden er mindre enn eller lik 0, bør programmet be om input data igjen en gang, som må vare mer enn null."
   ]
  },
  {
   "cell_type": "code",
   "execution_count": null,
   "id": "439e7f61",
   "metadata": {},
   "outputs": [],
   "source": []
  },
  {
   "cell_type": "code",
   "execution_count": null,
   "id": "960edbfb",
   "metadata": {},
   "outputs": [],
   "source": []
  }
 ],
 "metadata": {
  "kernelspec": {
   "display_name": "Python 3 (ipykernel)",
   "language": "python",
   "name": "python3"
  },
  "language_info": {
   "codemirror_mode": {
    "name": "ipython",
    "version": 3
   },
   "file_extension": ".py",
   "mimetype": "text/x-python",
   "name": "python",
   "nbconvert_exporter": "python",
   "pygments_lexer": "ipython3",
   "version": "3.11.5"
  }
 },
 "nbformat": 4,
 "nbformat_minor": 5
}
