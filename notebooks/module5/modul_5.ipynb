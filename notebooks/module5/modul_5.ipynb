{
 "cells": [
  {
   "cell_type": "markdown",
   "id": "53260096",
   "metadata": {},
   "source": [
    "# Modul 5 : Betinget utførelse\n",
    "\n",
    "\n",
    "Betinget utførelse i Python betyr å utføre en bestemt del av koden kun hvis en bestemt betingelse er oppfylt. Dette gjøres ved å bruke if-setningen, som evaluerer en betingelse og utfører en blokk med kode hvis betingelsen er sann. Hvis betingelsen er falsk, kan du velge å utføre en annen blokk av kode ved å bruke else-setningen. Dette lar deg skrive mer fleksible programmer som kan tilpasse seg ulike situasjoner og variabler.\n",
    "\n",
    "\"if\"-setningen sjekker verdien til betingelsen, som kan være en boolsk uttrykk, en variabel, eller et annet uttrykk som kan evalueres til Sann eller Falsk. Hvis betingelsen er Sann, blir koden inne i den første blokken utført, og hvis betingelsen er Falsk, blir koden inne i den andre blokken (else-blokken) utført."
   ]
  },
  {
   "cell_type": "code",
   "execution_count": null,
   "id": "6dd1b746",
   "metadata": {},
   "outputs": [],
   "source": [
    "#Enkel if-else kode\n",
    "# Sjekker om et tall er positivt eller negativt\n",
    "num = 10\n",
    "\n",
    "if num >= 0:\n",
    "    print(\"Tallet er positivt\")\n",
    "else:\n",
    "    print(\"Tallet er negativt\")"
   ]
  },
  {
   "cell_type": "code",
   "execution_count": null,
   "id": "0afff63b",
   "metadata": {},
   "outputs": [],
   "source": [
    "#Enkel if-elif-else betingelse\n",
    "\n",
    "# Sjekker hvilken karakter en student ville fått via antall poeng. \n",
    "score = 85\n",
    "\n",
    "if score >= 90:\n",
    "    karakter = 'A'\n",
    "elif score >= 80:\n",
    "    karakter = 'B'\n",
    "elif score >= 70:\n",
    "    karakter = 'C'\n",
    "elif score >= 60:\n",
    "    karakter = 'D'\n",
    "else:\n",
    "    karakter = 'F'\n",
    "\n",
    "print(\"Studentens karakter er\", karakter)"
   ]
  },
  {
   "cell_type": "markdown",
   "id": "14285013",
   "metadata": {},
   "source": [
    "## Sammenligningsoperatorer\n",
    "\n",
    "I Python brukes sammenligningsoperatorer for å sammenligne verdiene til to uttrykk og evaluere dem til en boolsk verdi av Sann eller Usann. Sammenligningsoperatorer brukes vanligvis i betingede utførelser, løkker og andre logiske uttrykk. Følgende sammenligningsoperatorer er tilgjengelige i Python:\n",
    "\n",
    "Likhet: ==\n",
    "\n",
    "Ikke likhet: !=\n",
    "\n",
    "Større enn: >\n",
    "\n",
    "Mindre enn: <\n",
    "\n",
    "Større enn eller lik: >=\n",
    "\n",
    "Mindre enn eller lik: <="
   ]
  },
  {
   "cell_type": "code",
   "execution_count": null,
   "id": "cee7d930",
   "metadata": {},
   "outputs": [],
   "source": [
    "# Sammenlignings operatorer eksempel\n",
    "x = 5\n",
    "y = 10\n",
    "\n",
    "print(x == y)   # False\n",
    "print(x != y)   # True\n",
    "print(x > y)    # False\n",
    "print(x < y)    # True\n",
    "print(x >= y)   # False\n",
    "print(x <= y)   # True"
   ]
  },
  {
   "cell_type": "markdown",
   "id": "3946eb71",
   "metadata": {},
   "source": [
    "I dette eksempelet sammenligner vi verdiene til x og y ved hjelp av forskjellige sammenligningsoperatorer. Utskriften av hver print-setning er en boolsk verdi (Sann eller Usann) avhengig av resultatet av sammenligningen.\n",
    "\n",
    "Du kan bruke disse sammenligningsoperatorer på en rekke måter for å sammenligne forskjellige typer verdier, som heltall, desimaltall, tekststrenger og mer."
   ]
  },
  {
   "cell_type": "markdown",
   "id": "c8d1849a",
   "metadata": {},
   "source": [
    "## Logiske operatorer\n",
    "\n",
    "I Python brukes logiske operatorer til å kombinere eller endre evalueringen av boolske uttrykk. Det finnes tre logiske operatorer i Python: and (og), or (eller), og not (ikke). Disse operatorer kan brukes til å opprette mer komplekse uttrykk og for å kontrollere flyten i programmer.\n",
    "\n",
    "Her er en kort forklaring av hver logisk operator:\n",
    "\n",
    "and : Evalueres til Sann hvis begge uttrykkene på hver side av operatoren er Sann.\n",
    "\n",
    "or: Evalueres til Sann hvis enten ett eller begge uttrykkene på hver side av operatoren er Sann.\n",
    "\n",
    "not : Reverserer verdien av boolsk uttrykk. Hvis uttrykket er Sant, evaluerer ikke til Usant. Hvis uttrykket er Usant, evaluerer ikke til Sant."
   ]
  },
  {
   "cell_type": "code",
   "execution_count": null,
   "id": "fd02f0ec",
   "metadata": {},
   "outputs": [],
   "source": [
    "# Definerer noen variabler\n",
    "x = 5\n",
    "y = 10\n",
    "\n",
    "# Bruker den logiske AND-operator\n",
    "if x > 0 and y < 15:\n",
    "    print(\"Både x er større enn 0 og y er mindre enn 15.\")"
   ]
  },
  {
   "cell_type": "code",
   "execution_count": null,
   "id": "003de924",
   "metadata": {},
   "outputs": [],
   "source": [
    "# Bruker den logiske OR-operator\n",
    "if x > 0 or y < 0:\n",
    "    print(\"Enten x er større enn 0 eller y er mindre enn 0.\")"
   ]
  },
  {
   "cell_type": "code",
   "execution_count": null,
   "id": "16580880",
   "metadata": {},
   "outputs": [],
   "source": [
    "# Bruker den logiske NOT-operator\n",
    "if not x == y:\n",
    "    print(\"x er ikke lik y.\")"
   ]
  }
 ],
 "metadata": {
  "kernelspec": {
   "display_name": "Python 3 (ipykernel)",
   "language": "python",
   "name": "python3"
  },
  "language_info": {
   "codemirror_mode": {
    "name": "ipython",
    "version": 3
   },
   "file_extension": ".py",
   "mimetype": "text/x-python",
   "name": "python",
   "nbconvert_exporter": "python",
   "pygments_lexer": "ipython3",
   "version": "3.11.5"
  }
 },
 "nbformat": 4,
 "nbformat_minor": 5
}
