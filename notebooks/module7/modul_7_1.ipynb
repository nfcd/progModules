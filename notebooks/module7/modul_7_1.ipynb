{
 "cells": [
  {
   "cell_type": "markdown",
   "id": "876e0817",
   "metadata": {},
   "source": [
    "# Funksjoner\n",
    "\n",
    "En funksjon er en gjenbrukbar blokk med kode som utfører operasjoner som er spesifisert i funksjonen. De lar deg bryte ned oppgaver og tillater deg å gjenbruke koden din i forskjellige programmer. Vi kan tenke på funksjoner som \"svarte bokser\", som aksepterer inndata, behandler disse inndataene og returnerer en verdi som deretter kan settes til en variabel eller brukes i et uttrykk.\n",
    "\n",
    "Det finnes tre typer funksjoner :\n",
    "*\t<b>Innebygde funksjoner</b>\n",
    "*   <b>Forhåndsdefinerte funksjoner</b>\n",
    "*   <b>Brukerdefinerte funksjoner</b>\n"
   ]
  },
  {
   "cell_type": "markdown",
   "id": "ffaf8d31",
   "metadata": {},
   "source": [
    "# Innebygde funksjoner\n",
    "\n",
    "Noen funksjoner i Python er innebygd og er automatisk tilgjengelige for programmereren når Python-interpreteren eller Jupyer-notatblokken kjører. Det er mange innebygde funksjoner i Python, de enkle og mest brukte:\n",
    "\n",
    "- Funksjonen <code>len()</code> returnerer lengden på en liste eller tuple:"
   ]
  },
  {
   "cell_type": "code",
   "execution_count": null,
   "id": "041a20b5",
   "metadata": {},
   "outputs": [],
   "source": [
    "# Vis lengden på listen eller tuplet\n",
    "temp_endringer=[15.0, 16.6, 16.9, 20.1, 23.5, 29.8]\n",
    "len(temp_endringer)"
   ]
  },
  {
   "cell_type": "markdown",
   "id": "c1502083",
   "metadata": {},
   "source": [
    "Også den velkjente <code>print()</code> er en innebygd funksjon:"
   ]
  },
  {
   "cell_type": "code",
   "execution_count": null,
   "id": "26632821",
   "metadata": {},
   "outputs": [],
   "source": [
    "# Innebygd funksjon print()\n",
    "print(temp_endringer)"
   ]
  },
  {
   "cell_type": "markdown",
   "id": "3d9f1a7f",
   "metadata": {},
   "source": [
    "<code>del()</code> funksjonen er en annen - den sletter en variabel slik at Python ikke gjenkjenner den, og funksjonen returnerer ikke en verdi."
   ]
  },
  {
   "cell_type": "code",
   "execution_count": null,
   "id": "69e80e3a",
   "metadata": {},
   "outputs": [],
   "source": [
    "del(temp_endringer)\n",
    "temp_endringer"
   ]
  },
  {
   "cell_type": "markdown",
   "id": "ed25b058",
   "metadata": {},
   "source": [
    "# Eksterne funksjoner\n",
    "\n",
    "Eksterne funksjoner refererer til funksjoner som er tilgjengelige etter å ha importert en eksternt standardbibliotek eller et tredjepartsbibliotek. Først må vi importere biblioteket:\n",
    "\n",
    "For eksempel, la oss importere numpy biblioteket, som tillater oss å jobbe med matriser. Her importerer vi numpy biblioteket med aliaset np:"
   ]
  },
  {
   "cell_type": "code",
   "execution_count": null,
   "id": "567e5acb",
   "metadata": {},
   "outputs": [],
   "source": [
    "import numpy as np # importerer numpy biblioteket med aliaset np"
   ]
  },
  {
   "cell_type": "markdown",
   "id": "d25f432e",
   "metadata": {},
   "source": [
    "Vi kan deretter bruke funksjonene i det importerte biblioteket. La oss starte med numpy sin ones funksjon, som lager en matrise av enere med en spesifisert form gitt som en tuple. For eksempel kan vi lage en 3D-matrise av enere med størrelse 2 x 3 x 4 som følger:"
   ]
  },
  {
   "cell_type": "code",
   "execution_count": null,
   "id": "cf413c92",
   "metadata": {},
   "outputs": [],
   "source": [
    "arr = np.ones((2, 3, 4)) # Lager en matrise av størreksen 2 x 3 x 4\n",
    "print(arr) # printer matrisen"
   ]
  },
  {
   "cell_type": "markdown",
   "id": "96d1a2c0",
   "metadata": {},
   "source": [
    "Det finnes også en lignende innebygd funksjon som heter zeros. Den lager en matrise med nuller:"
   ]
  },
  {
   "cell_type": "code",
   "execution_count": null,
   "id": "aa53a8cc",
   "metadata": {},
   "outputs": [],
   "source": [
    "arr = np.zeros((2, 3, 4)) # Lager en matrise av størreksen 2 x 3 x 4\n",
    "print(arr) # printer matrisen"
   ]
  },
  {
   "cell_type": "markdown",
   "id": "522494b7",
   "metadata": {},
   "source": [
    "Nå skal vi regne ut cosinus av vinklene 0 til 360 grader, med steg på 10 grader. Koden under bruker følgende funksjoner fra numpy:\n",
    "\n",
    "1. `arange` for å lage en matrise fra 0 til 360 med steg på 10\n",
    "2. `radians` for å konvertere matrisen fra grader til radianer\n",
    "3. `cos` for å regne ut cosinus av vinklene i radianer\n",
    "4. `round` for å skrive ut resultatet med 2 desimaler\n",
    "\n",
    "La oss se hvordan det fungerer:"
   ]
  },
  {
   "cell_type": "code",
   "execution_count": null,
   "id": "16252c55",
   "metadata": {},
   "outputs": [],
   "source": [
    "vinkler = np.arange(0,360,10) # matrise fra 0 til 360 med steg på 10\n",
    "vinkler_rad = np.radians(vinkler) # vinkler i radianer\n",
    "cos_vinkler = np.cos(vinkler_rad) # cosinus av vinkler i radianer\n",
    "print(np.round(cos_vinkler,2)) # skriv ut resultatet med 2 desimaler"
   ]
  },
  {
   "cell_type": "markdown",
   "id": "de2190ce",
   "metadata": {},
   "source": [
    "Nå skal vi bli litt ville og plotte disse resultatene i en graf av vinkler i grader versus cosinus av vinklene. For å gjøre det, må vi importere pyplot modulen i matplotlib biblioteket. Vi vil importere den med aliaset plt. Etter å ha importert pyplot, kan vi bruke funksjonene i den modulen til å plotte grafen:"
   ]
  },
  {
   "cell_type": "code",
   "execution_count": null,
   "id": "7de55bda",
   "metadata": {},
   "outputs": [],
   "source": [
    "import matplotlib.pyplot as plt # importer pyplot som plt\n",
    "\n",
    "plt.plot(vinkler,cos_vinkler,\"-o\") # plot vinkler versus cosinus av vinklene, vis kurven og datapunktene\n",
    "plt.xlabel(\"Vinkler i grader\") # label x-aksen\n",
    "plt.ylabel(\"Cosinus av vinkler\") # label y-aksen\n",
    "plt.title(\"Cosinus kurve\"); # tittel på plottet, legg til ; for å fjerne noen unødvendige linjer"
   ]
  },
  {
   "cell_type": "markdown",
   "id": "bc4ed552",
   "metadata": {},
   "source": [
    "Det er så enkelt å plotte. I en senere modul vil vi se nærmere på detaljene ved plotting. I mellomtiden kan du prøve å legge til flere punkter på plottet ditt. For eksempel 100 punkter! Hvordan vil du gjøre det?\n",
    "\n",
    "Hente informasjon om funksjoner\n",
    "\n",
    "For å lære mer om innebygde eller eksterne funksjoner, kan vi bruke den innebygde funksjonen help:"
   ]
  },
  {
   "cell_type": "code",
   "execution_count": null,
   "id": "3d7c5e57",
   "metadata": {},
   "outputs": [],
   "source": [
    "help(len) # gir informasjon om den innebygde funksjonen len()"
   ]
  },
  {
   "cell_type": "code",
   "execution_count": null,
   "id": "c682b7c1",
   "metadata": {},
   "outputs": [],
   "source": [
    "help(np.cos) # gir informasjon om numpy.cos funksjonen."
   ]
  },
  {
   "cell_type": "markdown",
   "id": "8e7f02f8",
   "metadata": {},
   "source": [
    "# Brukerdefinerte funksjoner\n",
    "\n",
    "Du kan definere dine egne funksjoner. Her er reglene for å definere en funksjon i Python:\n",
    "\n",
    "* Funksjonen starter med ordet <code>def</code>, etterfulgt av funksjonsnavnet <code>name</code> og parenteser <code>()</code>.\n",
    "\n",
    "* Inputparametere skal plasseres innenfor parentesene. Hvis det ikke er noen inputparametere, kan parentesene være tomme.\n",
    "\n",
    "* Kroppen til funksjonen starter med et kolon (<code>:</code>) og er innrykket.\n",
    "\n",
    "* Dokumentasjon (docstrings) kan plasseres før funksjonens kropp. Dette er veldig nyttig.\n",
    "\n",
    "* Uttalelsen <code>return</code> avslutter en funksjon og hvis ønskelig gir en verdi (eller verdier).\n",
    "\n",
    "Syntax:\n",
    "\n",
    "<code>def funksjonsnavn (input parametere):\n",
    "    \"\"\"dokumentasjon\"\"\"\n",
    "    kropp_av_funksjonen </code>\n",
    "\n",
    "\n",
    "Vurder følgende funksjon som beregner kinetisk energi (Ek) til et objekt av masse (m) og hastighet (v):"
   ]
  },
  {
   "cell_type": "markdown",
   "id": "d86ca056",
   "metadata": {},
   "source": [
    "Se følgende funksjon som beregner kinetisk energi (Ek) gitt en masse (m) og hastighet (v), ved hjelp av formelen Ek=(1/2)mv^2"
   ]
  },
  {
   "cell_type": "code",
   "execution_count": null,
   "id": "7f06e852",
   "metadata": {},
   "outputs": [],
   "source": [
    "def kinetisk_energi(masse, hastighet):\n",
    "    \"\"\"Denne funksjonen beregner den kinetiske energien til et objekt basert på massen og hastigheten ved hjelp av formelen:\n",
    "\n",
    "    E_k = (1/2) * m * v^2\n",
    "\n",
    "    Positional Input Arguments:\n",
    "    masse: Et flyttall eller heltall som representerer massen til objektet i kilogram.\n",
    "    hastighet: Et flyttall eller heltall som representerer hastigheten til objektet i meter per sekund.\n",
    "\n",
    "    Returns:\n",
    "    Et flyttall som representerer den kinetiske energien til objektet i joule.\n",
    "\n",
    "    Example:\n",
    "    >>> print(kinetisk_energi(10, 20))\n",
    "    2000\n",
    "\n",
    "    \"\"\"\n",
    "    return 0.5 * masse * (hastighet ** 2)"
   ]
  },
  {
   "cell_type": "markdown",
   "id": "4c94c2ef",
   "metadata": {},
   "source": [
    "La oss nå beregne kinetisk energi til en masse på 4,5 kg med en hastighet på 1,9 m/s:"
   ]
  },
  {
   "cell_type": "code",
   "execution_count": null,
   "id": "fe3e49d7",
   "metadata": {},
   "outputs": [],
   "source": [
    "kinetisk_energi(4.5, 1.9)"
   ]
  },
  {
   "cell_type": "markdown",
   "id": "4bee5554",
   "metadata": {},
   "source": [
    "Eller enda finere:"
   ]
  },
  {
   "cell_type": "code",
   "execution_count": null,
   "id": "08b888a0",
   "metadata": {},
   "outputs": [],
   "source": [
    "print(kinetisk_energi(4.5, 1.9), \"Joules\")"
   ]
  },
  {
   "cell_type": "markdown",
   "id": "2e4ca26e",
   "metadata": {},
   "source": [
    "Dokumentasjonen før \"kroppen\" til funksjonen er svært viktig. Vi kan bruke `help`funksjonen til å få mer informasjon om funksjonen din."
   ]
  },
  {
   "cell_type": "code",
   "execution_count": null,
   "id": "5bc497cf",
   "metadata": {},
   "outputs": [],
   "source": [
    "help(kinetisk_energi)"
   ]
  },
  {
   "cell_type": "markdown",
   "id": "add0bca3",
   "metadata": {},
   "source": [
    "<h4>Bruk av <code>if</code>/<code>else</code>-setninger og løkker i funksjoner</h4>\n",
    "La oss se på følgende funksjon som bestemmer type kjemikalie basert på atomnummeret."
   ]
  },
  {
   "cell_type": "code",
   "execution_count": null,
   "id": "c4988548",
   "metadata": {},
   "outputs": [],
   "source": [
    "def element_type(atom_nummer):\n",
    "    \"\"\"\" Bestemmer typen til et kjemisk element basert på atomnummet.\n",
    "    Returnerer en streng som indikerer elementtypen\"\"\"\n",
    "        \n",
    "    element_type = \"Ukjent\"\n",
    "\n",
    "    if atom_nummer <= 2:\n",
    "        element_type = \"Edelgass\"\n",
    "    elif atom_nummer <= 10:\n",
    "        element_type = \"Annen ikke-metall\"\n",
    "    elif atom_nummer <= 18:\n",
    "        element_type = \"Edelgass\"\n",
    "    elif atom_nummer <= 36:\n",
    "        element_type = \"Halogen\"\n",
    "    elif atom_nummer <= 54:\n",
    "        element_type = \"Edelgass\"\n",
    "    elif atom_nummer <= 86:\n",
    "        element_type = \"Metall\"\n",
    "\n",
    "    return element_type\n",
    "symbol = \"Ne\" # element symbol\n",
    "atom_nummer = 10 # atomisk nummer for elementet\n",
    "element_type = element_type(atomisk_nummer) # element_type ved bruk av element_type funksjonen\n",
    "\n",
    "print(symbol, atom_nummer, element_type) # printer symbol, atom nummer og element type\n"
   ]
  },
  {
   "cell_type": "markdown",
   "id": "fb894fef",
   "metadata": {},
   "source": [
    "Bruke av løkke i en funksjon\n",
    "\n",
    "La oss se på følgende funksjon som beregner gjennomsnittstrykket fra en liste over trykkverdier:"
   ]
  },
  {
   "cell_type": "code",
   "execution_count": null,
   "id": "523a9138",
   "metadata": {},
   "outputs": [],
   "source": [
    "def calc_average_pressure(pressures):\n",
    "    \"\"\"\n",
    "    Beregner gjennomsnittstrykket fra en liste over trykkverdier.\n",
    "    \"\"\"\n",
    "    total_pressure = 0\n",
    "    for pressure in pressures:\n",
    "        total_pressure += pressure\n",
    "    gjennomsnittstrykk = total_pressure / len(pressures)\n",
    "    return gjennomsnittstrykk\n",
    "\n",
    "# eksempelbruk\n",
    "trykk = [100, 110, 105, 95, 115]\n",
    "gjennomsnittstrykk = calc_average_pressure(trykk)\n",
    "print(f\"Gjennomsnittstrykk: {gjennomsnittstrykk}\")"
   ]
  },
  {
   "cell_type": "markdown",
   "id": "a3c89f89",
   "metadata": {},
   "source": [
    "Dette eksemplet er bare for illustrasjon og det er litt trivielt, fordi du kan også gjøre følgende ved hjelp av numpy:"
   ]
  },
  {
   "cell_type": "code",
   "execution_count": null,
   "id": "f5f643c0",
   "metadata": {},
   "outputs": [],
   "source": [
    "pressures = np.array([100, 110, 105, 95, 115]) # matrise av trykk i MPa\n",
    "average_pressure = np.average(pressures) # beregne gjennomsnittstrykk ved hjelp av numpy sin average funksjon\n",
    "print(\"Gjennomsnittstrykk:\", average_pressure, \"MPa\") # skriv ut resultat"
   ]
  },
  {
   "cell_type": "markdown",
   "id": "1f2bcdbe",
   "metadata": {},
   "source": [
    "Du forstår poenget! Funksjoner er svært nyttige. Python har kraftige innebygde funksjoner og standard- og tredjepartsbiblioteker gir mange nyttige funksjoner. Når du av og til trenger å definere dine egne funksjoner, kan dette gjøres også. Dette er genialt fordi du kan gjenbruke funksjonene dine og til og med dele dem med andre (sharing is caring)."
   ]
  },
  {
   "cell_type": "code",
   "execution_count": null,
   "id": "a6479fc9",
   "metadata": {},
   "outputs": [],
   "source": []
  }
 ],
 "metadata": {
  "kernelspec": {
   "display_name": "Python 3 (ipykernel)",
   "language": "python",
   "name": "python3"
  },
  "language_info": {
   "codemirror_mode": {
    "name": "ipython",
    "version": 3
   },
   "file_extension": ".py",
   "mimetype": "text/x-python",
   "name": "python",
   "nbconvert_exporter": "python",
   "pygments_lexer": "ipython3",
   "version": "3.11.5"
  }
 },
 "nbformat": 4,
 "nbformat_minor": 5
}
