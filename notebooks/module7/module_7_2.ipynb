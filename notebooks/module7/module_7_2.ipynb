{
 "cells": [
  {
   "cell_type": "markdown",
   "id": "15e9e5ff",
   "metadata": {},
   "source": [
    "# Classes\n",
    "A class is a design for creating objects with properties and methods. In Python, we define a class using the `class` keyword. Multiple objects of the same class can be created, each with its own data and behavior, but all sharing the same structure."
   ]
  },
  {
   "cell_type": "markdown",
   "id": "e36d4502",
   "metadata": {},
   "source": [
    "## \" __init__()\" \n",
    "When you create a class in Python, you should define a special method called `init`, which is called the constructor method. The `init` method is executed automatically whenever an object of the class is created. It is used to initialize the object's attributes.\n",
    "\n",
    "Imagine you want to make a new type of toy called a `Robot`. This toy can have different colors, sizes, and abilities. The `init` function is the first step in the recipe for making a Robot toy. It gathers all the pieces needed to make the toy.\n",
    "\n",
    "When you create a new object from a class, the `init` method is the first piece of code that is run. It sets up the object's attributes. For example, you might want to set the color and size of a Robot toy when you create it.\n",
    "\n",
    "Let's use as an example a class called `Person`. The initialization method for this class looks like:"
   ]
  },
  {
   "cell_type": "code",
   "execution_count": null,
   "id": "df2822ef",
   "metadata": {},
   "outputs": [],
   "source": [
    "class Person:\n",
    "    def __init__(self, name, age):\n",
    "        self.name = name # Person name\n",
    "        self.age = age # Person age"
   ]
  },
  {
   "cell_type": "markdown",
   "id": "d672ad10",
   "metadata": {},
   "source": [
    "When you create a new object of the `Person` class, you can pass the values for name and age as arguments to the constructor method. The first line below creates a new Person object with name `Syed` and age `25`. The last two lines print the `name` and `age` of the `person`. Notice that to get the value of an object's property, we use `object.property`:"
   ]
  },
  {
   "cell_type": "code",
   "execution_count": null,
   "id": "d07611e0",
   "metadata": {},
   "outputs": [],
   "source": [
    "person = Person(\"Syed\",25)\n",
    "print(person.name) # person name\n",
    "print(person.age) # person age"
   ]
  },
  {
   "cell_type": "markdown",
   "id": "845955f0",
   "metadata": {},
   "source": [
    "## \"__str__()\"\n",
    "The __str__() function is another special method that you can define in a Python class. It is used to define how an object should be represented as a string.\n",
    "\n",
    "The __str__() method provides a human-readable string representation of an object. It is often used for debugging and logging purposes, or for displaying object information to the user. Here is an example of the `str` method for our `Person` class:"
   ]
  },
  {
   "cell_type": "code",
   "execution_count": null,
   "id": "a6443b90",
   "metadata": {},
   "outputs": [],
   "source": [
    "class Person:\n",
    "    def __init__(self, name, age):\n",
    "        self.name = name\n",
    "        self.age = age\n",
    "\n",
    "    def __str__(self):\n",
    "        return f\"Person(name='{self.name}', age={self.age})\""
   ]
  },
  {
   "cell_type": "markdown",
   "id": "b9dfac25",
   "metadata": {},
   "source": [
    "Let's create and print a `Person` object:"
   ]
  },
  {
   "cell_type": "code",
   "execution_count": null,
   "id": "5868b420",
   "metadata": {},
   "outputs": [],
   "source": [
    "# Create and print a Person object\n",
    "person = Person(\"Syed\", 25)\n",
    "print(person)"
   ]
  },
  {
   "cell_type": "markdown",
   "id": "494a2af4",
   "metadata": {},
   "source": [
    "`person` is nicely printed, as we defined the `str` method in the `Person` class.\n",
    "\n",
    "## Classes Methods\n",
    "\n",
    "Classes can also contain methods. Methods are functions that belong to the class and accomplish a particular task.\n",
    "\n",
    "Let's say we are designing a robot arm that can pick up and move objects. We could define a class for the robot arm, and then define methods that represent the actions the arm can perform. Here's an example:"
   ]
  },
  {
   "cell_type": "code",
   "execution_count": null,
   "id": "0c8796a7",
   "metadata": {},
   "outputs": [],
   "source": [
    "#Example of a class with methods\n",
    "class RobotArm:\n",
    "    def __init__(self, length, max_load):\n",
    "        self.length = length\n",
    "        self.max_load = max_load\n",
    "        self.current_load = 0\n",
    "\n",
    "    def move_to(self, x, y, z):\n",
    "        # code to move the arm to a specific x, y, z position\n",
    "        pass\n",
    "        #class definitions cannot be empty, but if you for some reason have a class definition with no content, \n",
    "        #put in the pass statement to avoid getting an error.\n",
    "\n",
    "    def pick_up(self, object_weight):\n",
    "        if self.current_load + object_weight <= self.max_load:\n",
    "            # code to pick up the object\n",
    "            self.current_load += object_weight\n",
    "        else:\n",
    "            print(\"Warning: Object is too heavy for robot arm\")\n",
    "\n",
    "    def release(self):\n",
    "        # code to release the object\n",
    "        self.current_load = 0"
   ]
  },
  {
   "cell_type": "markdown",
   "id": "166e5646",
   "metadata": {},
   "source": [
    "`RobotArm` has three methods: `move_to`, `pick_up`, and `release`. `move_to` does not do anything at the moment. Let's see how the `pick_up` method works:"
   ]
  },
  {
   "cell_type": "code",
   "execution_count": null,
   "id": "97039fd3",
   "metadata": {},
   "outputs": [],
   "source": [
    "# illustrate the application of RobotArm methods\n",
    "robotarm = RobotArm(5, 5) # maximum length of robotarm is 5 m, and maximum weight is 5 km\n",
    "robotarm.pick_up(2) # pick up 2 kilograms\n",
    "print(\"current load = \", robotarm.current_load, \"kg\") # print current load\n",
    "robotarm.pick_up(3) # pick up 3 kilograms\n",
    "print(\"current load = \", robotarm.current_load, \"kg\") # print current load\n",
    "robotarm.pick_up(2) # pick up 2 kilograms, what should happen here?"
   ]
  },
  {
   "cell_type": "markdown",
   "id": "4dd6b9f4",
   "metadata": {},
   "source": [
    "`robot_arm`picked first 2 kg, then 3 kg, and then it tried to pick 2 kg more. At this point the object's `max_load` was exceeded, therefore the warning. Let's release the object's load:"
   ]
  },
  {
   "cell_type": "code",
   "execution_count": null,
   "id": "122d7084",
   "metadata": {},
   "outputs": [],
   "source": [
    "print(\"current load = \", robotarm.current_load, \"kg\") # print current load\n",
    "robotarm.release() # release all load\n",
    "print(\"current load = \", robotarm.current_load, \"kg\") # print current load"
   ]
  },
  {
   "cell_type": "markdown",
   "id": "ae7efbff",
   "metadata": {},
   "source": [
    "The following cell defines a `Rectangle` class and uses it to create an instance of a rectangle and calculate its area.\n",
    "\n",
    "The `Rectangle` class has two attributes,`length` and `width`, which are initialized in the constructor method `init`.\n",
    "\n",
    "The Rectangle class also has a method called `area`, which calculates and returns the area of the rectangle object. The `area` method doesn't take any arguments, because it already has access to the `length` and `width` attributes of the object through the `self` parameter.\n",
    "\n",
    "In the last two lines of the cell, an instance of the `Rectangle` class is created with a length of 5 and a width of 3. The `area` method is then called on this instance, and the result is printed:"
   ]
  },
  {
   "cell_type": "code",
   "execution_count": null,
   "id": "cb2122fb",
   "metadata": {},
   "outputs": [],
   "source": [
    "#Working example\n",
    "class Rectangle:\n",
    "    def __init__(self, length, width):\n",
    "        \"\"\"\n",
    "        Initializes a Rectangle object with the given length and width.\n",
    "        \n",
    "        Args:\n",
    "            length (float): The length of the rectangle.\n",
    "            width (float): The width of the rectangle.\n",
    "        \"\"\"\n",
    "        self.length = length\n",
    "        self.width = width\n",
    "\n",
    "    def area(self):\n",
    "        \"\"\"\n",
    "        Calculates the area of the Rectangle object.\n",
    "        \n",
    "        Returns:\n",
    "            float: The area of the Rectangle object.\n",
    "        \"\"\"\n",
    "        return self.length * self.width\n",
    "\n",
    "rectangle = Rectangle(5, 3)\n",
    "print(\"The area of the rectangle is\", rectangle.area())"
   ]
  },
  {
   "cell_type": "markdown",
   "id": "1babd40b",
   "metadata": {},
   "source": [
    "Cool, isn't? Now make a class called `Circle` which is defined by its radius. Define a method in the class called `area` that returns the area of the circle. Make a `Circle` object of radius 5, and prints its area:"
   ]
  },
  {
   "cell_type": "code",
   "execution_count": null,
   "id": "5d384b93",
   "metadata": {},
   "outputs": [],
   "source": [
    "# Circle class here\n",
    "\n",
    "# Define a circle of radius 5 and print its area using the class Circle\n"
   ]
  },
  {
   "cell_type": "markdown",
   "id": "fed15aff",
   "metadata": {},
   "source": [
    "## Functions vs Classes\n",
    "\n",
    "While functions and classes can both accomplish similar tasks, they are used in different ways. Here's an example of how to use a class and a function to accomplish the same task:"
   ]
  },
  {
   "cell_type": "code",
   "execution_count": null,
   "id": "dc717a3b",
   "metadata": {},
   "outputs": [],
   "source": [
    "# Define the Rectangle class\n",
    "class Rectangle:\n",
    "    def __init__(self, length, width):\n",
    "        self.length = length\n",
    "        self.width = width\n",
    "\n",
    "    def area(self):\n",
    "        return self.length * self.width\n",
    "\n",
    "\n",
    "# Define the calculate_rectangle_area function\n",
    "def calculate_rectangle_area(length, width):\n",
    "    rectangle = Rectangle(length, width)\n",
    "    return rectangle.area()\n",
    "\n",
    "\n",
    "# Print area of rectangle using the Class\n",
    "rectangle1 = Rectangle(5, 3)\n",
    "print(rectangle1.area())\n",
    "\n",
    "# Print area of rectangle using a function\n",
    "rectangle2_area = calculate_rectangle_area(5, 3)\n",
    "print(rectangle2_area)"
   ]
  },
  {
   "cell_type": "markdown",
   "id": "40c35e3e",
   "metadata": {},
   "source": [
    "Obviously it is your choice to use either a class or a function. For computing the area of a rectangle, a function will be perhaps simpler. However, if you are working with many rectangles, and one of the many properties you need from these rectangles is their areas, a class may be better. It all boils down to code design. But don't forget, the class, object-oriented philosophy of Python is very powerful. It is behind all the variable types and libraries that make Python so powerful."
   ]
  },
  {
   "cell_type": "markdown",
   "id": "b7cafc21",
   "metadata": {},
   "source": [
    "## Exercises\n",
    "\n",
    "1. Modify the `RobotArm` class above to move the arm to the position x, y and z. Also add a method to print the current position of the arm.\n"
   ]
  },
  {
   "cell_type": "code",
   "execution_count": null,
   "id": "dd31edaf",
   "metadata": {},
   "outputs": [],
   "source": []
  }
 ],
 "metadata": {
  "kernelspec": {
   "display_name": "Python 3 (ipykernel)",
   "language": "python",
   "name": "python3"
  },
  "language_info": {
   "codemirror_mode": {
    "name": "ipython",
    "version": 3
   },
   "file_extension": ".py",
   "mimetype": "text/x-python",
   "name": "python",
   "nbconvert_exporter": "python",
   "pygments_lexer": "ipython3",
   "version": "3.11.5"
  }
 },
 "nbformat": 4,
 "nbformat_minor": 5
}
