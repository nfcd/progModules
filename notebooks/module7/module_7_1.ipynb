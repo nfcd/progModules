{
 "cells": [
  {
   "cell_type": "markdown",
   "metadata": {},
   "source": [
    "# Functions\n",
    "\n",
    "A function is a reusable block of code which performs a specified set of operations. Functions let you break down tasks and allow you to reuse your code. We can think of functions as \"operators\", which accept input, process that input, and return a value that can then be set to a variable or used in an expression.\n",
    "\n",
    "There are three types of functions :\n",
    "*\t<b>Built-in functions</b>\n",
    "*   <b>External functions</b>\n",
    "*   <b>User-defined functions</b>"
   ]
  },
  {
   "cell_type": "markdown",
   "metadata": {},
   "source": [
    "# Built-in functions\n",
    "\n",
    "Some functions in Python are built-in and are automatically made available to the user when the Python interpreter or Jupyer notebook is running. There are many built-in functions in Python,  the simplest ones and mostly used are:\n",
    "\n",
    "- The <code>len()</code> function returns the length of a list, tuple, or string:"
   ]
  },
  {
   "cell_type": "code",
   "execution_count": null,
   "metadata": {},
   "outputs": [],
   "source": [
    "# Show the length of a list\n",
    "temp_changes=[15.0, 16.6, 16.9, 20.1, 23.5, 29.8]\n",
    "len(temp_changes)"
   ]
  },
  {
   "cell_type": "code",
   "execution_count": null,
   "metadata": {},
   "outputs": [],
   "source": [
    "# Show the length or number of characters in a string\n",
    "len(\"Back to work\")"
   ]
  },
  {
   "cell_type": "markdown",
   "metadata": {},
   "source": [
    "The well-known <code>print()</code> functions is a built-in function:"
   ]
  },
  {
   "cell_type": "code",
   "execution_count": null,
   "metadata": {},
   "outputs": [],
   "source": [
    "# Print temp_changes using the built-in function print()\n",
    "print(temp_changes)"
   ]
  },
  {
   "cell_type": "markdown",
   "metadata": {},
   "source": [
    "The <code>del()</code> function is another built-in function.  It deletes a variable so that Python does not recognize it. This function  does not have a return value:"
   ]
  },
  {
   "cell_type": "code",
   "execution_count": null,
   "metadata": {},
   "outputs": [],
   "source": [
    "del(temp_changes) # delete temp_changes\n",
    "temp_changes # this will throw an error because temp_changes has been just deleted"
   ]
  },
  {
   "cell_type": "markdown",
   "metadata": {},
   "source": [
    "# External functions\n",
    "External functions refer to functions that are available after importing an external standard library or a third-party library. We first need to import the library:\n",
    "\n",
    "For example, let's import the `numpy` library, which allows us to work with arrays. Here we import the `numpy` library with the alias `np`:"
   ]
  },
  {
   "cell_type": "code",
   "execution_count": null,
   "metadata": {},
   "outputs": [],
   "source": [
    "import numpy as np # import numpy as np"
   ]
  },
  {
   "cell_type": "markdown",
   "metadata": {},
   "source": [
    "We can then used the functions in the imported library. Let's start with the numpy `ones` function, which creates an array of ones with a specified shape given as a tuple. For example, we can create a 3D array of ones of size 2 x 3 x 4 as follows:"
   ]
  },
  {
   "cell_type": "code",
   "execution_count": null,
   "metadata": {},
   "outputs": [],
   "source": [
    "arr = np.ones((2, 3, 4)) # make an array of ones of size 2, 3, 4\n",
    "print(arr) # print the array"
   ]
  },
  {
   "cell_type": "markdown",
   "metadata": {},
   "source": [
    "There is also a similar built-in function called `zeros`. It creates an array of zeros:"
   ]
  },
  {
   "cell_type": "code",
   "execution_count": null,
   "metadata": {},
   "outputs": [],
   "source": [
    "arr = np.zeros((2, 3, 4)) # make an array of zeros of size 2, 3, 4\n",
    "print(arr) # print the array"
   ]
  },
  {
   "cell_type": "markdown",
   "metadata": {},
   "source": [
    "Now, let's compute the cosine of the angles 0 to 360 degrees, in steps of 10 degrees. The code below uses the following functions from numpy:\n",
    "\n",
    "1. `arange` to create an array from 0 to 360 in steps of 10\n",
    "2. `radians` to convert the array from degrees to radians\n",
    "3. `cos` to compute the cosine of the angles in radians\n",
    "4. `round` to print the result with 2 decimal places\n",
    "\n",
    "Let's see how that works:"
   ]
  },
  {
   "cell_type": "code",
   "execution_count": null,
   "metadata": {},
   "outputs": [],
   "source": [
    "angles = np.arange(0,360,10) # array of 0 to 360 in steps of 10\n",
    "angles_rad = np.radians(angles) # angles in radians\n",
    "cos_angles = np.cos(angles_rad) # cosine of angles in radians\n",
    "print(np.round(cos_angles,2)) # print the result with 2 decimal places"
   ]
  },
  {
   "cell_type": "markdown",
   "metadata": {},
   "source": [
    "Now, let's get a little bit wild and plot these results in a graph of angles in degrees versus cosines of the angles. For that, we need to import the `pyplot` module of the `matplotlib` library. We will import that with the alias `plt`. After importing `pyplot`, we can use the functions in that module to plot the graph:"
   ]
  },
  {
   "cell_type": "code",
   "execution_count": null,
   "metadata": {},
   "outputs": [],
   "source": [
    "import matplotlib.pyplot as plt # import pyplot as plt\n",
    "\n",
    "plt.plot(angles,cos_angles,\"-o\") # plot angles versus cosine of angles, show curve and data points\n",
    "plt.xlabel(\"Angles in degrees\") # label x axis\n",
    "plt.ylabel(\"Cosines of angles\") # label y axis\n",
    "plt.title(\"Cosine curve\"); # title of plot, add ; to remove some gibberish"
   ]
  },
  {
   "cell_type": "markdown",
   "metadata": {},
   "source": [
    "It is that easy to plot. In a latter module we will look at the details of plotting. In the meantime, try adding more points to your plot. For example 100 points! How will you do that?\n",
    "\n",
    "## Obtaining information about functions\n",
    "\n",
    "To learn more about either built-in or external functions, we can use the built-in function `help`: "
   ]
  },
  {
   "cell_type": "code",
   "execution_count": null,
   "metadata": {},
   "outputs": [],
   "source": [
    "help(len) # get info about built-in function len"
   ]
  },
  {
   "cell_type": "code",
   "execution_count": null,
   "metadata": {},
   "outputs": [],
   "source": [
    "help(np.cos) # get info about numpy cos function"
   ]
  },
  {
   "cell_type": "markdown",
   "metadata": {},
   "source": [
    "# User-defined functions\n",
    "\n",
    "You can define your own functions. Here are the rules to define a function in Python:\n",
    "\n",
    "*   The function begins with the word <code>def</code> followed by the function <code>name</code> and parentheses <code>()</code>.\n",
    "*   Input parameters should be placed within the parentheses. If there are no input parameters, the parenthesis can be empty.\n",
    "*   The body of the function starts with a colon (<code>:</code>) and is indented.\n",
    "*   Documentation(docstrings) can be placed before the body of the function. This is very useful.\n",
    "*   The statement <code>return</code> exits a function, and if desired passes a value (or values).\n",
    "\n",
    "Syntax:\n",
    "\n",
    "<code>def function_name (input parameters):\n",
    "    \"\"\"documentation\"\"\"\n",
    "        body_of_function </code>\n",
    "        \n",
    "Consider the following function which calculates the kinetic energy (Ek) of an object of mass (m) and velocity (v):"
   ]
  },
  {
   "cell_type": "code",
   "execution_count": null,
   "metadata": {},
   "outputs": [],
   "source": [
    "def kinetic_energy (mass, velocity):\n",
    "    \"\"\"This function calculates the kinetic energy of an \n",
    "    object based on its mass and velocity\n",
    "    \n",
    "    Input arguments:\n",
    "\tmass: A float or integer representing the mass of the object in kilograms.\n",
    "\tvelocity: A float or integer representing the velocity of the object in meters per second.\n",
    "    \n",
    "    Returns:\n",
    "\tA float representing the kinetic energy of the object in Joules.\n",
    "    \n",
    "    Example:\n",
    "    >>>print(kinetic_energy(10, 20))\n",
    "    \n",
    "    \"\"\"\n",
    "    return 0.5*mass*(velocity**2)"
   ]
  },
  {
   "cell_type": "markdown",
   "metadata": {},
   "source": [
    "Let's calculate the kinetic energy of an object with mass 4.5 kg and velocity 1.9 m/s:"
   ]
  },
  {
   "cell_type": "code",
   "execution_count": null,
   "metadata": {},
   "outputs": [],
   "source": [
    "kinetic_energy(4.5, 1.9) # calculate kinentic energy of object with mass 4.5 kg, and velocity 1.9 m/s"
   ]
  },
  {
   "cell_type": "markdown",
   "metadata": {},
   "source": [
    "Or more nicely:"
   ]
  },
  {
   "cell_type": "code",
   "execution_count": null,
   "metadata": {},
   "outputs": [],
   "source": [
    "print(kinetic_energy(4.5, 1.9), \"Joules\")"
   ]
  },
  {
   "cell_type": "markdown",
   "metadata": {},
   "source": [
    "The documentation before the body of the function is incredibly important. Using the `help` function, you can get information about your function:"
   ]
  },
  {
   "cell_type": "code",
   "execution_count": null,
   "metadata": {},
   "outputs": [],
   "source": [
    "help(kinetic_energy)"
   ]
  },
  {
   "cell_type": "markdown",
   "metadata": {},
   "source": [
    "<h4> Using <code>if</code>/<code>else</code> statements in a function </h4>\n",
    "\n",
    "Let's look at the following function which determines the type of a chemical element based on its atomic number:"
   ]
  },
  {
   "cell_type": "code",
   "execution_count": null,
   "metadata": {},
   "outputs": [],
   "source": [
    "def element_type(atomic_number):\n",
    "    \"\"\"\n",
    "    Determines the type of a chemical element based on its atomic number.\n",
    "    Returns a string indicating the element type.\n",
    "    \"\"\"\n",
    "    \n",
    "    element_type = \"Unknown\"\n",
    "    \n",
    "    if atomic_number <= 2:\n",
    "        element_type = \"Noble gas\"\n",
    "    elif atomic_number <= 10:\n",
    "        element_type = \"Other nonmetal\"\n",
    "    elif atomic_number <= 18:\n",
    "        element_type = \"Noble gas\"\n",
    "    elif atomic_number <= 36:\n",
    "        element_type = \"Halogen\"\n",
    "    elif atomic_number <= 54:\n",
    "        element_type = \"Noble gas\"\n",
    "    elif atomic_number <= 86:\n",
    "        element_type = \"Metal\"\n",
    "    \n",
    "    return element_type\n",
    "    \n",
    "symbol = \"Ne\" # element symbol\n",
    "atomic_number = 10 # atomic number of element\n",
    "element_type = element_type(atomic_number) # element_type using our function element_type\n",
    "\n",
    "print(symbol, atomic_number, element_type) # print symbol, atomic number, and element type"
   ]
  },
  {
   "cell_type": "markdown",
   "metadata": {},
   "source": [
    "**Using a loop within a function**\n",
    "\n",
    "Let's look at the following function which calculates the average pressure from a list of pressure values:"
   ]
  },
  {
   "cell_type": "code",
   "execution_count": null,
   "metadata": {},
   "outputs": [],
   "source": [
    "def calc_average_pressure(pressures):\n",
    "    \"\"\"\n",
    "    Calculates the average pressure from a list of pressure values.\n",
    "    \"\"\"\n",
    "    total_pressure = 0\n",
    "    for pressure in pressures:\n",
    "        total_pressure += pressure\n",
    "    average_pressure = total_pressure / len(pressures)\n",
    "    return average_pressure\n",
    "\n",
    "# example usage\n",
    "pressures = [100, 110, 105, 95, 115] # list of pressures in MPa\n",
    "average_pressure = calc_average_pressure(pressures) # calculate average pressure using our function\n",
    "print(\"Average pressure:\", average_pressure, \"MPa\") # print result"
   ]
  },
  {
   "cell_type": "markdown",
   "metadata": {},
   "source": [
    "This example is just for illustration and it is a little bit trivial, because you can also do the following using `numpy`:"
   ]
  },
  {
   "cell_type": "code",
   "execution_count": null,
   "metadata": {},
   "outputs": [],
   "source": [
    "pressures = np.array([100, 110, 105, 95, 115]) # array of pressures in MPa\n",
    "average_pressure = np.average(pressures) # calculate average pressure using numpy average function\n",
    "print(\"Average pressure:\", average_pressure, \"MPa\") # print result"
   ]
  },
  {
   "cell_type": "markdown",
   "metadata": {},
   "source": [
    "Anyway, you get the idea. Functions are very powerful. Python has powerful built-in functions, and standard and third-party libraries provide many useful functions. Sometimes though, you may need to define your own functions. This is fun because you can reuse your functions and even share them with others (sharing is caring)."
   ]
  }
 ],
 "metadata": {
  "kernelspec": {
   "display_name": "Python 3 (ipykernel)",
   "language": "python",
   "name": "python3"
  },
  "language_info": {
   "codemirror_mode": {
    "name": "ipython",
    "version": 3
   },
   "file_extension": ".py",
   "mimetype": "text/x-python",
   "name": "python",
   "nbconvert_exporter": "python",
   "pygments_lexer": "ipython3",
   "version": "3.11.5"
  }
 },
 "nbformat": 4,
 "nbformat_minor": 2
}
