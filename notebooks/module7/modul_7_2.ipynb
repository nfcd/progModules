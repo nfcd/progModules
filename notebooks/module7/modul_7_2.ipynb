{
 "cells": [
  {
   "cell_type": "markdown",
   "id": "1eef0a3d",
   "metadata": {},
   "source": [
    "# Klasser\n",
    "\n",
    "En klasse er et design for å lage objekter med egenskaper og metoder. I python definerer vi en klasse ved hjelp av nøkkelordet `class`. Flere objekter av samme klasse kan oprettes, hver med sin egen data og atferd, men alle deler den samme strukturen. "
   ]
  },
  {
   "cell_type": "markdown",
   "id": "0e6207a7",
   "metadata": {},
   "source": [
    "## \"__init__()\"\n",
    "Når du oppretter en klasse i Python, bør du definere en spesiell metode som heter `init`, som kalles konstruktørmetode. `init`-metoden blir automatisk utført hver gang et objekt av klassen blir opprettet. Den brukes til å initialisere objektets grunnegenskaper.\n",
    "\n",
    "Tenk deg at du vil lage et nytt type leketøy kalt Robot. Dette leketøyet kan ha forskjellige farger, størrelser og egenskaper. `init`-funksjonen er det første steget i oppskriften for å lage et Robot leketøy. Den samler alle delene som trengs for å lage leketøyet.\n",
    "\n",
    "Når du oppretter et nytt objekt fra en klasse, er `init`-metoden det første koden som kjøres. Den setter opp objektets grunnegenskaper. For eksempel kan du ønske å sette fargen og størrelsen på en Robot leketøy når du oppretter den.\n",
    "\n",
    "Her er et eksempel av en klasse som heter Person. Initialiseringsmetoden for denne klassen ser slik ut:"
   ]
  },
  {
   "cell_type": "code",
   "execution_count": null,
   "id": "a9dc1dea",
   "metadata": {},
   "outputs": [],
   "source": [
    "class Person:\n",
    "    def __init__(self, navn, alder):\n",
    "        self.navn = navn # Person navn\n",
    "        self.alder = alder # Person alder\n"
   ]
  },
  {
   "cell_type": "markdown",
   "id": "3c13d88f",
   "metadata": {},
   "source": [
    "Når du oppretter et nytt objekt av klassen `Person`, kan du sende verdiene for navn og alder som argumenter til konstruktørmetoden. Den første linjen nedenfor oppretter et nytt Person objekt med navn Syed og alder 25. De siste to linjene skriver ut `navn` og `alder` til`Person`. Legg merke til at for å få verdien til et objekts attributt, bruker vi `objekt.grunnegenskap`:"
   ]
  },
  {
   "cell_type": "code",
   "execution_count": null,
   "id": "026fc982",
   "metadata": {},
   "outputs": [],
   "source": [
    "person = Person(\"Syed\", 25) # Oppretter en ny person med navn \"Syed\" og alder \"25\"\n",
    "print(person.navn) # person navn\n",
    "print(person.alder) # person alder\n"
   ]
  },
  {
   "cell_type": "markdown",
   "id": "2bae4bf4",
   "metadata": {},
   "source": [
    "## \"__str__()\"\n",
    "\n",
    "__str__() funksjonen er en annen spesiell metode som du kan definere i en Python klasse. Den brukes til å definere hvordan et objekt skal representeres som en streng.\n",
    "\n",
    "__str__() metoden gir en lesbar strengrepresentasjon av et objekt. Den brukes ofte til feilsøking og logging, eller for å vise objektinformasjon til brukeren. Her er et eksempel på `str`-metoden for vår `Person` klasse:"
   ]
  },
  {
   "cell_type": "code",
   "execution_count": null,
   "id": "92959387",
   "metadata": {},
   "outputs": [],
   "source": [
    "class Person:\n",
    "    def __init__(self, navn, alder):\n",
    "        self.navn = navn # Person navn\n",
    "        self.alder = alder # Person alder\n",
    "\n",
    "    def __str__(self):\n",
    "        return f\"Person: {self.navn}, Alder: {self.alder}\"\n"
   ]
  },
  {
   "cell_type": "markdown",
   "id": "fcf4aa55",
   "metadata": {},
   "source": [
    "La oss lage og printe et objekt av klassen `Person`:"
   ]
  },
  {
   "cell_type": "code",
   "execution_count": null,
   "id": "9f0455a3",
   "metadata": {},
   "outputs": [],
   "source": [
    "# Lager og printer et Person-objekt\n",
    "person = Person(\"Syed\", 25)\n",
    "print(person)"
   ]
  },
  {
   "cell_type": "markdown",
   "id": "8b0f02a9",
   "metadata": {},
   "source": [
    "`person`blir dermed printet ut slik som vi definerte i `str`metoden i `Person`-klassen."
   ]
  },
  {
   "cell_type": "markdown",
   "id": "6012d8a8",
   "metadata": {},
   "source": [
    "## Metoder i klasser\n",
    "\n",
    "Klasser kan også inneholde metoder. Metoder er funksjoner som tilhører klassen og utfører en bestemt oppgave.\n",
    "\n",
    "La oss si at vi designer en robotarm som kan plukke opp og flytte objekter. Vi kan definere en klasse for robotarmen, og deretter definere metoder som representerer handlingene armen kan utføre. Her er et eksempel:"
   ]
  },
  {
   "cell_type": "code",
   "execution_count": null,
   "id": "c086bf04",
   "metadata": {},
   "outputs": [],
   "source": [
    "class RobotArm:\n",
    "    def __init__(self, lengde, maks_last):\n",
    "        self.lengde = lengde\n",
    "        self.maks_last = maks_last\n",
    "        self.naavaerende_last = 0\n",
    "\n",
    "    def flytt_til(self, x, y, z):\n",
    "        # Her skal det være kode for å flytte armen til en spesifikk x-, y-, z-posisjon\n",
    "        pass\n",
    "        #klasse definisjoner kan ikke være tomme, men hvis du for en eller annen grunn har\n",
    "        #en tom definisjon: sett inn `pass`. Da slipper du å få error.\n",
    "        \n",
    "    def plukk_opp(self, objekt_vekt):\n",
    "        if self.naavaerende_last + objekt_vekt <= self.maks_last:\n",
    "            #her skal det være kode for å plukke opp objektet\n",
    "            self.naavaerende_last += objekt_vekt\n",
    "        else:\n",
    "            print(\"Advarsel: Objektet er for tungt for robotarmen\")\n",
    "\n",
    "    def slipp(self):\n",
    "        # her skal det være kode for å slippe objektet\n",
    "        self.naavaerende_last = 0\n"
   ]
  },
  {
   "cell_type": "markdown",
   "id": "efa7cffd",
   "metadata": {},
   "source": [
    "`RobotArm` har tre metoder: `flytt_til`, `plukk_opp` og `slipp`. `flytt_til` gjør ikke noe for øyeblikket. La oss se hvordan `pick_up`-metoden fungerer:"
   ]
  },
  {
   "cell_type": "code",
   "execution_count": null,
   "id": "2dca2c3c",
   "metadata": {},
   "outputs": [],
   "source": [
    "# illustrerer bruken av RobotArm-metodene\n",
    "robotarm = RobotArm(5, 5) # maksimal lengde på robotarmen er 5 m, og maksimalvekt er 5 kg\n",
    "robotarm.plukk_opp(2) # plukk opp 2 kg\n",
    "print(\"nåværende last = \", robotarm.naavaerende_last, \"kg\") # skriv ut nåværende last\n",
    "robotarm.plukk_opp(3) # plukk opp 3 kg\n",
    "print(\"nåværende last = \", robotarm.naavaerende_last, \"kg\") # skriv ut nåværende last\n",
    "robotarm.plukk_opp(2) # plukk opp 2 kg, hva skal skje her?"
   ]
  },
  {
   "cell_type": "markdown",
   "id": "912aafe0",
   "metadata": {},
   "source": [
    "`robot_arm` plukket først opp 2 kg, deretter 3 kg, og så prøvde den å plukke opp 2 kg til. På dette tidspunktet ble `maks_last` for objektet overskredet, derfor advarselen. La oss frigjøre lasten til objektet:"
   ]
  },
  {
   "cell_type": "code",
   "execution_count": null,
   "id": "612de0c6",
   "metadata": {},
   "outputs": [],
   "source": [
    "print(\"gjeldende belastning = \", robotarm.naavaerende_last, \"kg\") # skriv ut gjeldende belastning\n",
    "robotarm.slipp() # fjern all last\n",
    "print(\"gjeldende belastning = \", robotarm.naavaerende_last, \"kg\") # skriv ut gjeldende belastning"
   ]
  },
  {
   "cell_type": "markdown",
   "id": "652ea08b",
   "metadata": {},
   "source": [
    "Følgende kode definerer en `Rektangel`-klasse og bruker den til å opprette en instans av et rektangel og beregne dets areal.\n",
    "\n",
    "`Rectangle`-klassen har to grunnegenskaper, `lengde` og `bredde`, som blir initialisert i konstruktørmetoden `init`.\n",
    "\n",
    "`Rectangle`-klassen har også en metode kalt `areal`, som beregner og returnerer arealet av rektangel-objektet. `areal`-metoden tar ikke noen argumenter, fordi den allerede har tilgang til `lengde`- og `bredde`-attributtene til objektet gjennom `self`-parameteren.\n",
    "\n",
    "I de siste to linjene av koden blir en instans av `Rectangle`-klassen opprettet med en lengde på 5 og en bredde på 3. `areal`-metoden blir deretter kalt på denne instansen, og resultatet blir skrevet ut:"
   ]
  },
  {
   "cell_type": "code",
   "execution_count": null,
   "id": "b79063b5",
   "metadata": {},
   "outputs": [],
   "source": [
    "#Eksempel\n",
    "class Rektangel:\n",
    "    def __init__(self, lengde, bredde):\n",
    "        \"\"\"\n",
    "        Initialiserer et Rektangel-objekt med gitt lengde og bredde.\n",
    "        \n",
    "        Args:\n",
    "            lengde (float): Lengden av rektangelet.\n",
    "            bredde (float): Bredden av rektangelet.\n",
    "        \"\"\"\n",
    "        self.lengde = lengde\n",
    "        self.bredde = bredde\n",
    "\n",
    "    def areal(self):\n",
    "        \"\"\"\n",
    "        Regner ut arealet til rektangel objektet.\n",
    "        \n",
    "        Returnerer:\n",
    "            float: Arealet til rektangelet.\n",
    "        \"\"\"\n",
    "        return self.lengde * self.bredde\n",
    "\n",
    "rektangel = Rektangel(5, 3)\n",
    "print(\"Arealet av rektangelet er\", rektangel.areal())"
   ]
  },
  {
   "cell_type": "markdown",
   "id": "84164f69",
   "metadata": {},
   "source": [
    "Ganske kult, eller hva? Lag nå en klasse som heter Sirkel som er definert av sin radius. Definer en metode i klassen som heter areal som returnerer arealet av sirkelen. Lag et Sirkel-objekt med radius 5 og skriv ut arealet:"
   ]
  },
  {
   "cell_type": "code",
   "execution_count": null,
   "id": "296b6f35",
   "metadata": {},
   "outputs": [],
   "source": [
    "# Sirkel klasse her\n",
    "\n",
    "# Definer en sirkel med radius 5 og print arealet ved bruk av sirkel-klasse.\n"
   ]
  },
  {
   "cell_type": "markdown",
   "id": "08f3b5a5",
   "metadata": {},
   "source": [
    "## Funksjoner vs Klasser\n",
    "\n",
    "Selv om funksjoner og klasser begge kan utføre lignende oppgaver, brukes de på forskjellige måter. Her er et eksempel på hvordan du kan bruke en klasse og en funksjon til å oppnå samme oppgave:"
   ]
  },
  {
   "cell_type": "code",
   "execution_count": null,
   "id": "5ae624c2",
   "metadata": {},
   "outputs": [],
   "source": [
    "# Definer en rektangel klasse\n",
    "class Rektangel:\n",
    "    def __init__(self, lengde, bredde):\n",
    "        self.lengde = lengde\n",
    "        self.bredde = bredde\n",
    "\n",
    "    def areal(self):\n",
    "        return self.lengde * self.bredde\n",
    "\n",
    "\n",
    "#Definer en regn_ut_areal funksjon for et rektangel:\n",
    "def regnut_rektangel_areal(lengde, bredde):\n",
    "    rektangel = Rektangel(lengde, bredde)\n",
    "    return rektangel.areal()\n",
    "\n",
    "\n",
    "# Print ut arealet for rektangelet ved bruk av klassen\n",
    "rektangel1 = Rektangel(5, 3)\n",
    "print(rektangel1.areal())\n",
    "\n",
    "# Print ut arealet for rektangelet ved bruk av en funksjon\n",
    "rektangel2_areal = regnut_rektangel_areal(5, 3)\n",
    "print(rektangel2_areal)"
   ]
  },
  {
   "cell_type": "markdown",
   "id": "ce962fd3",
   "metadata": {},
   "source": [
    "Selvfølgelig er det ditt valg å bruke enten en klasse eller en funksjon. For å beregne arealet til en rektangel, vil en funksjon kanskje være enklere. Imidlertid, hvis du jobber med mange rektangler, og en av egenskapene du trenger fra disse rektanglene er arealet, kan en klasse være bedre. Det hele dreier seg om kode design. Men ikke glem at den klasse-objektorienterte filosofien i Python, er veldig kraftig. Det er bak alle variabeltypene og bibliotekene som gjør Python så kraftig."
   ]
  },
  {
   "cell_type": "markdown",
   "id": "6a57a670",
   "metadata": {},
   "source": [
    "## Øvelser\n",
    "\n",
    "1. Endre `RobotArm`-klassen ovenfor slik at armen beveger seg til posisjonen x, y og z. Legg også til en metode for å skrive ut den nåværende posisjonen til armen."
   ]
  },
  {
   "cell_type": "code",
   "execution_count": null,
   "id": "9de5554f",
   "metadata": {},
   "outputs": [],
   "source": []
  }
 ],
 "metadata": {
  "kernelspec": {
   "display_name": "Python 3 (ipykernel)",
   "language": "python",
   "name": "python3"
  },
  "language_info": {
   "codemirror_mode": {
    "name": "ipython",
    "version": 3
   },
   "file_extension": ".py",
   "mimetype": "text/x-python",
   "name": "python",
   "nbconvert_exporter": "python",
   "pygments_lexer": "ipython3",
   "version": "3.11.5"
  }
 },
 "nbformat": 4,
 "nbformat_minor": 5
}
