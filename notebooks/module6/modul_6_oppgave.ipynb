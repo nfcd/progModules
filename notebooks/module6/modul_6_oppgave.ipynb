{
 "cells": [
  {
   "cell_type": "markdown",
   "id": "c9843df1",
   "metadata": {},
   "source": [
    "## Dybden på havet\n",
    "\n",
    "Et vanlig problem innen geovitenskap er a beregne dybden pâ havet. Dette kan gjøres ved help av et sonarsystem som sender ut en lydbølge og måler tiden det tar for bølgen å reflektere av havbunnen og returnere til mottakeren. I denne oppgaven vil vi at dere skal bruke en en nøstet while-løkke for å beregne dybden på havet basert pa tiden det tar for lydbølgen å reise."
   ]
  },
  {
   "cell_type": "code",
   "execution_count": null,
   "id": "0ffb3c2e",
   "metadata": {},
   "outputs": [],
   "source": []
  },
  {
   "cell_type": "code",
   "execution_count": null,
   "id": "0a7811d7",
   "metadata": {},
   "outputs": [],
   "source": []
  },
  {
   "cell_type": "code",
   "execution_count": null,
   "id": "d685645d",
   "metadata": {},
   "outputs": [],
   "source": []
  }
 ],
 "metadata": {
  "kernelspec": {
   "display_name": "Python 3 (ipykernel)",
   "language": "python",
   "name": "python3"
  },
  "language_info": {
   "codemirror_mode": {
    "name": "ipython",
    "version": 3
   },
   "file_extension": ".py",
   "mimetype": "text/x-python",
   "name": "python",
   "nbconvert_exporter": "python",
   "pygments_lexer": "ipython3",
   "version": "3.11.5"
  }
 },
 "nbformat": 4,
 "nbformat_minor": 5
}
