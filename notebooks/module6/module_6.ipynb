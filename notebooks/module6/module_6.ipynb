{
 "cells": [
  {
   "cell_type": "markdown",
   "id": "ab65a95a",
   "metadata": {},
   "source": [
    "# Module 6\n",
    "\n",
    "## Iterative execution\n",
    "Repetitive execution of the same block of code over and over is referred to as iteration. Which means that iterative execution in Python is a way to repeat a block of code multiple times.\n",
    "\n",
    "There are two types of iteration: \n",
    "\n",
    "Definite iteration, in which the number of repetitions is specified explicitly in advance.For this you can use for-loops.\n",
    "Or, \n",
    "Indefinite iteration, in which the block of code is executed until some condition is met.For this you can use while-loops\n",
    "\n",
    "\n",
    "These are both examples of iterative execution, which is a powerful way to automate repetitive tasks in your code.\n"
   ]
  },
  {
   "cell_type": "markdown",
   "id": "61947112",
   "metadata": {},
   "source": [
    "# For loops\n",
    "In Python, there are several ways to perform iterative execution. One common way is to use a \"for loop\". A for loop allows you to iterate over a sequence of elements (such as a list, tuple, or range) and perform some operation on each element.\n",
    "\n",
    "Some important statements to understand and use in a for loop are these:\n",
    "1.for\n",
    "\n",
    "2.break\n",
    "\n",
    "3.continue\n",
    "\n",
    "4.else\n",
    "\n"
   ]
  },
  {
   "cell_type": "code",
   "execution_count": null,
   "id": "67fd6b33",
   "metadata": {},
   "outputs": [],
   "source": [
    "# Iterate over a list of numbers and print each one\n",
    "numbers = [1, 2, 3, 4, 5]\n",
    "for i in numbers:\n",
    "    print(i)"
   ]
  },
  {
   "cell_type": "markdown",
   "id": "cdaedcf3",
   "metadata": {},
   "source": [
    "## Break \n",
    "The break statement is used to exit a loop prematurely. When executed inside a loop, it immediately stops the loop and continues executing the next statement after the loop."
   ]
  },
  {
   "cell_type": "code",
   "execution_count": null,
   "id": "00bf5ece",
   "metadata": {},
   "outputs": [],
   "source": [
    "#Breaks after iteration\n",
    "minerals = [\"quartz\", \"feldspar\", \"olivine\"]\n",
    "for x in minerals:\n",
    "    print(x)\n",
    "    if x == \"feldspar\":\n",
    "        break  \n",
    "    "
   ]
  },
  {
   "cell_type": "code",
   "execution_count": null,
   "id": "c950e2d7",
   "metadata": {},
   "outputs": [],
   "source": [
    "#Breaks before iteration\n",
    "minerals = [\"quartz\", \"feldspar\", \"olivine\"]\n",
    "for x in minerals:\n",
    "    if x == \"feldspar\":\n",
    "        break \n",
    "    print(x)"
   ]
  },
  {
   "cell_type": "markdown",
   "id": "6a64cb26",
   "metadata": {},
   "source": [
    "## Continue\n",
    "The continue statement is used to skip the current iteration of a loop and continue with the next iteration."
   ]
  },
  {
   "cell_type": "code",
   "execution_count": null,
   "id": "d28c48e7",
   "metadata": {},
   "outputs": [],
   "source": [
    "minerals = [\"quartz\", \"feldspar\", \"olivine\"]\n",
    "for x in minerals:\n",
    "  if x == \"feldspar\":\n",
    "    continue\n",
    "  print(x)"
   ]
  },
  {
   "cell_type": "markdown",
   "id": "fd478671",
   "metadata": {},
   "source": [
    "## The range() function\n",
    "\n",
    "The range() function returns a sequence of numbers, starting from 0 by default, \n",
    "and increments by 1 (by default), and ends at a specified number."
   ]
  },
  {
   "cell_type": "code",
   "execution_count": null,
   "id": "fa6dc7ac",
   "metadata": {},
   "outputs": [],
   "source": [
    "#prints numbers from 0 to 7\n",
    "for x in range(8):\n",
    "  print(x)"
   ]
  },
  {
   "cell_type": "markdown",
   "id": "26105c97",
   "metadata": {},
   "source": [
    "The range() function defaults to 0 as a starting value, but it is possible to specify the starting value by adding a parameter: range(2, 8), which means values from 2 to 8 (but not including 8)"
   ]
  },
  {
   "cell_type": "code",
   "execution_count": null,
   "id": "0cf034e2",
   "metadata": {},
   "outputs": [],
   "source": [
    "for x in range(2, 8):\n",
    "  print(x)"
   ]
  },
  {
   "cell_type": "markdown",
   "id": "cd35e57c",
   "metadata": {},
   "source": [
    "The range() function defaults to increment the sequence by 1, however it is possible to specify the increment value by adding a third parameter: range(2, 30, 2):"
   ]
  },
  {
   "cell_type": "code",
   "execution_count": null,
   "id": "cdb5f743",
   "metadata": {
    "scrolled": true
   },
   "outputs": [],
   "source": [
    "for x in range(2, 30, 2):\n",
    "  print(x)"
   ]
  },
  {
   "cell_type": "markdown",
   "id": "d00556a9",
   "metadata": {},
   "source": [
    "## Else \n",
    "The else keyword in a for loop specifies a block of code to be executed when the loop is finished."
   ]
  },
  {
   "cell_type": "code",
   "execution_count": null,
   "id": "2746617c",
   "metadata": {},
   "outputs": [],
   "source": [
    "# This program checks if a list of integers contains any negative values\n",
    "# and prints a message indicating whether or not there are negative values\n",
    "\n",
    "values = [1, 2, 3, -4, 5, 6]\n",
    "\n",
    "for val in values:\n",
    "    if val < 0:\n",
    "        print(\"Negative value detected!\")\n",
    "        break\n",
    "else:\n",
    "    print(\"No negative values detected!\")"
   ]
  },
  {
   "cell_type": "markdown",
   "id": "83cdb674",
   "metadata": {},
   "source": [
    "# While loop\n",
    "The while loop executes a block of code as long as a condition is true.\n",
    "While loops are useful when you want to repeat a set of instructions an unknown number of times, depending on some condition that is only known at runtime. For example, you might use a while loop to continually prompt a user for input until they provide a valid value. However, you need to be careful when using while loops, since if the condition never becomes false, the loop can become an infinite loop and cause your program to hang or crash.\n",
    "In while loops you can also use the break, continue and else statements. \n"
   ]
  },
  {
   "cell_type": "code",
   "execution_count": null,
   "id": "b844739d",
   "metadata": {},
   "outputs": [],
   "source": [
    "#Print i as long as i is < than 6\n",
    "i = 1\n",
    "while i < 6:\n",
    "  print(i)\n",
    "  i += 1"
   ]
  },
  {
   "cell_type": "markdown",
   "id": "e18e21cf",
   "metadata": {},
   "source": [
    "## Break"
   ]
  },
  {
   "cell_type": "code",
   "execution_count": null,
   "id": "02e96b78",
   "metadata": {},
   "outputs": [],
   "source": [
    "# This program uses a while loop with a break statement to find the first even number in a list\n",
    "\n",
    "numbers = [3, 7, 5, 8, 4, 6, 9]\n",
    "\n",
    "for num in numbers:\n",
    "    if num % 2 == 0:\n",
    "        print(f\"The first even number is {num}\")\n",
    "        break\n",
    "else:\n",
    "    print(\"No even numbers found in the list\")"
   ]
  },
  {
   "cell_type": "markdown",
   "id": "b21c9d6d",
   "metadata": {},
   "source": [
    "## Continue"
   ]
  },
  {
   "cell_type": "code",
   "execution_count": null,
   "id": "15e561fa",
   "metadata": {},
   "outputs": [],
   "source": [
    "# Use a while loop with a continue statement to print all \n",
    "# odd numbers in a range\n",
    "\n",
    "start = 1\n",
    "end = 10\n",
    "\n",
    "while start <= end:\n",
    "    if start % 2 == 0:\n",
    "        start += 1\n",
    "        continue\n",
    "    print(start)\n",
    "    start += 1"
   ]
  },
  {
   "cell_type": "markdown",
   "id": "8b303c62",
   "metadata": {},
   "source": [
    "## Else\n",
    "In this program, we want to calculate the factorial of a number using a while loop. We initialize the factorial variable to 1, and then use a while loop to multiply each number from num down to 1. Inside the loop, we multiply factorial by count, and then decrement count by 1. When the loop finishes, we use an else statement to print the result of the calculation. If the loop exits prematurely due to a break statement, the else block will not execute."
   ]
  },
  {
   "cell_type": "code",
   "execution_count": null,
   "id": "f5c14dfe",
   "metadata": {},
   "outputs": [],
   "source": [
    "# Use a while loop with an else statement to print \n",
    "# the factorial of a number\n",
    "\n",
    "num = 5\n",
    "factorial = 1\n",
    "count = num\n",
    "\n",
    "while count > 0:\n",
    "    factorial *= count\n",
    "    count -= 1\n",
    "else:\n",
    "    print(f\"The factorial of {num} is {factorial}\")\n"
   ]
  },
  {
   "cell_type": "markdown",
   "id": "e55ffa18",
   "metadata": {},
   "source": [
    "## Nested Loops\n",
    "A nested loop is a loop inside a loop.\n",
    "The \"inner loop\" will be executed one time for each iteration of the \"outer loop\":"
   ]
  },
  {
   "cell_type": "code",
   "execution_count": null,
   "id": "dcd38ee9",
   "metadata": {},
   "outputs": [],
   "source": [
    "# This program prints out the multiplication table until 6X6\n",
    "\n",
    "# Define the inputs\n",
    "numbers = [1, 2, 3, 4, 5, 6]\n",
    "\n",
    "# Loop over each number combination\n",
    "for num1 in numbers:\n",
    "    for num2 in numbers:\n",
    "        product = num1 * num2\n",
    "        print(f\"{num1} x {num2} = {product}\")"
   ]
  },
  {
   "cell_type": "markdown",
   "id": "48ec3087",
   "metadata": {},
   "source": [
    "Suppose we want to calculate the molar flow rate of each species in a chemical reaction at different temperatures. We have a list of temperatures T in Kelvin and a list of species S involved in the reaction. We can use a nested for loop to iterate through each temperature and each species, and calculate the molar flow rate using the Arrhenius equation:"
   ]
  },
  {
   "cell_type": "code",
   "execution_count": null,
   "id": "21e3f380",
   "metadata": {},
   "outputs": [],
   "source": [
    "import math\n",
    "\n",
    "R = 8.314  # Universal gas constant [J/(mol K)]\n",
    "A = 1e9   # Pre-exponential factor [1/s]\n",
    "Ea = 100e3  # Activation energy [J/mol]\n",
    "\n",
    "T = [300, 400, 500]  # Temperature [K]\n",
    "S = ['A', 'B', 'C']  # Species\n",
    "\n",
    "for temp in T:\n",
    "    for species in S:\n",
    "        k = A * math.exp(-Ea/(R*temp))  # Rate constant [1/s]\n",
    "        C = 1  # Concentration [mol/L]\n",
    "        n = 2  # Stoichiometric coefficient\n",
    "        F = k * C**n  # Molar flow rate [mol/s]\n",
    "        print(f\"At T = {temp} K, the molar flow rate of species {species} is {F} mol/s.\")"
   ]
  },
  {
   "cell_type": "markdown",
   "id": "99cb50ce",
   "metadata": {},
   "source": [
    "Another common problem in geoscience is to calculate the depth of the ocean. This can be done using a sonar system that emits a sound wave and measures the time it takes for the wave to reflect off the ocean floor and return to the sonar. We can use a nested while loop to calculate the depth of the ocean based on the time it takes for the sound wave to travel:"
   ]
  },
  {
   "cell_type": "code",
   "execution_count": null,
   "id": "6f23c38e",
   "metadata": {},
   "outputs": [],
   "source": [
    "# Set the speed of sound in water\n",
    "speed_of_sound = 1500 # meters per second\n",
    "\n",
    "# Initialize the time variable\n",
    "time = 0\n",
    "\n",
    "# Use a nested while loop to calculate the depth of the ocean\n",
    "while True:\n",
    "    # Prompt the user to enter the time it takes for the sound wave to travel\n",
    "    travel_time = float(input(\"Enter the travel time of the sound wave in seconds: \"))\n",
    "    \n",
    "    # Calculate the depth of the ocean based on the time and the speed of sound\n",
    "    depth = speed_of_sound * travel_time / 2\n",
    "    \n",
    "    # Print the depth of the ocean\n",
    "    print(\"The depth of the ocean is\", depth, \"meters.\")\n",
    "    \n",
    "    # Ask the user if they want to calculate the depth of another ocean\n",
    "    answer = input(\"Do you want to calculate the depth of another ocean? (yes or no): \")\n",
    "    \n",
    "    # If the user does not want to calculate the depth of another ocean, break out of the outer loop\n",
    "    if answer == \"no\":\n",
    "        break"
   ]
  },
  {
   "cell_type": "code",
   "execution_count": null,
   "id": "f0fc7607",
   "metadata": {},
   "outputs": [],
   "source": []
  }
 ],
 "metadata": {
  "kernelspec": {
   "display_name": "Python 3 (ipykernel)",
   "language": "python",
   "name": "python3"
  },
  "language_info": {
   "codemirror_mode": {
    "name": "ipython",
    "version": 3
   },
   "file_extension": ".py",
   "mimetype": "text/x-python",
   "name": "python",
   "nbconvert_exporter": "python",
   "pygments_lexer": "ipython3",
   "version": "3.11.5"
  }
 },
 "nbformat": 4,
 "nbformat_minor": 5
}
