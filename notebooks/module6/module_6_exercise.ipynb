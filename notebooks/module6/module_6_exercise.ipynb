{
 "cells": [
  {
   "cell_type": "markdown",
   "id": "be00e804",
   "metadata": {},
   "source": [
    "## Depth of the ocean\n",
    "\n",
    "Another common problem in geoscience is to calculate the depth of the ocean. This can be done using a sonar system that emits a sound wave and measures the time it takes for the wave to reflect off the ocean floor and return to the receiver. We can use a nested while loop to calculate the depth of the ocean based on the time it takes for the sound wave to travel:"
   ]
  },
  {
   "cell_type": "code",
   "execution_count": null,
   "id": "9ed46075",
   "metadata": {},
   "outputs": [],
   "source": []
  },
  {
   "cell_type": "code",
   "execution_count": null,
   "id": "717d123a",
   "metadata": {},
   "outputs": [],
   "source": []
  },
  {
   "cell_type": "code",
   "execution_count": null,
   "id": "c0de133f",
   "metadata": {},
   "outputs": [],
   "source": []
  }
 ],
 "metadata": {
  "kernelspec": {
   "display_name": "Python 3 (ipykernel)",
   "language": "python",
   "name": "python3"
  },
  "language_info": {
   "codemirror_mode": {
    "name": "ipython",
    "version": 3
   },
   "file_extension": ".py",
   "mimetype": "text/x-python",
   "name": "python",
   "nbconvert_exporter": "python",
   "pygments_lexer": "ipython3",
   "version": "3.11.5"
  }
 },
 "nbformat": 4,
 "nbformat_minor": 5
}
