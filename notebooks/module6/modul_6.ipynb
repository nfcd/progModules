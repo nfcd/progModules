{
 "cells": [
  {
   "cell_type": "markdown",
   "id": "f3054fa2",
   "metadata": {},
   "source": [
    "# Modul 6\n",
    "\n",
    "## Iterativ utførelse\n",
    "\n",
    "Gjentatt utførelse av samme kodeblokk igjen og igjen kalles iterasjon. Dette betyr at iterativ utførelse i Python er en måte å gjenta en kodeblokk flere ganger på.\n",
    "\n",
    "Det er to typer iterasjon:\n",
    "\n",
    "Definert iterasjon, der antall repetisjoner er spesifisert eksplisitt på forhånd. For dette kan du bruke for-løkker.\n",
    "Eller,\n",
    "udefinert iterasjon, der kodeblokken utføres til en viss tilstand er oppfylt. For dette kan du bruke while-løkker.\n",
    "\n",
    "\n",
    "Disse er begge eksempler på iterativ utførelse, som er en kraftig måte å automatisere gjentakende oppgaver i koden din."
   ]
  },
  {
   "cell_type": "markdown",
   "id": "f8a379fe",
   "metadata": {},
   "source": [
    "## For-løkker\n",
    "\n",
    "I Python finnes det flere måter å utføre iterativ utførelse på. En vanlig måte er å bruke en \"for-løkke\". En for-løkke lar deg iterere over en sekvens av elementer (som en liste, tuple eller rekkevidde) og utføre en operasjon på hvert element.\n",
    "\n",
    "Noen viktige kommandoer å forstå og bruke i en for-løkke er:\n",
    "\n",
    "1.for\n",
    "\n",
    "2.break\n",
    "\n",
    "3.continue\n",
    "\n",
    "4.else\n",
    "\n",
    "\n"
   ]
  },
  {
   "cell_type": "code",
   "execution_count": null,
   "id": "89338a95",
   "metadata": {},
   "outputs": [],
   "source": [
    "# Iterate over a list of numbers and print each one\n",
    "\n",
    "tall = [1, 2, 3, 4, 5]\n",
    "for i in tall:\n",
    "    print(i)"
   ]
  },
  {
   "cell_type": "markdown",
   "id": "c822b37b",
   "metadata": {},
   "source": [
    "# Bryt/ Break\n",
    "\"Break\"-setningen brukes for å avslutte en løkke på en forhåndsbestemt tid. Når den blir utført inne i en løkke, vil den umiddelbart stoppe løkken og fortsette å utføre neste setning etter løkken."
   ]
  },
  {
   "cell_type": "code",
   "execution_count": null,
   "id": "00061625",
   "metadata": {},
   "outputs": [],
   "source": [
    "#Bryt løkken etter iterasjon\n",
    "mineraler = [\"kvarts\", \"feldspat\", \"olivin\"]\n",
    "for x in mineraler:\n",
    "    print(x)\n",
    "    if x == \"feldspat\":\n",
    "        break  \n",
    "    "
   ]
  },
  {
   "cell_type": "code",
   "execution_count": null,
   "id": "97a68529",
   "metadata": {},
   "outputs": [],
   "source": [
    "#Bryt løkken før iterasjon\n",
    "mineraler = [\"kvarts\", \"feldspat\", \"olivin\"]\n",
    "for x in mineraler:\n",
    "    if x == \"feldspat\":\n",
    "        break \n",
    "    print(x)"
   ]
  },
  {
   "cell_type": "markdown",
   "id": "e5ed5d02",
   "metadata": {},
   "source": [
    "# Fortsett/ Continue\n",
    "\n",
    "\"Continue\"-setningen brukes for å hoppe over gjeldende iterasjon av en løkke og fortsette med neste iterasjon."
   ]
  },
  {
   "cell_type": "code",
   "execution_count": null,
   "id": "d6dec326",
   "metadata": {},
   "outputs": [],
   "source": [
    "mineraler = [\"kvarts\", \"feldspat\", \"olivin\"]\n",
    "for x in mineraler:\n",
    "  if x == \"feldspat\":\n",
    "    continue\n",
    "  print(x)"
   ]
  },
  {
   "cell_type": "markdown",
   "id": "6ffab2ef",
   "metadata": {},
   "source": [
    "# Range() funksjonen\n",
    "\n",
    "range() funksjonen returnerer en sekvens av tall, som starter fra 0 som standard, og øker med 1 (som standard), og slutter på et spesifisert tall."
   ]
  },
  {
   "cell_type": "code",
   "execution_count": null,
   "id": "04665a60",
   "metadata": {},
   "outputs": [],
   "source": [
    "#Skriv ut tall fra 0 til 7\n",
    "for x in range(8):\n",
    "  print(x)"
   ]
  },
  {
   "cell_type": "markdown",
   "id": "b39b3d4a",
   "metadata": {},
   "source": [
    "range() funksjonen har 0 som standard startverdi, men det er mulig å spesifisere startverdien ved å legge til en parameter: range(2, 8), som betyr verdier fra 2 til 8 (men ikke inkludert 8)."
   ]
  },
  {
   "cell_type": "code",
   "execution_count": null,
   "id": "d00a6d43",
   "metadata": {},
   "outputs": [],
   "source": [
    "for x in range(2, 8):\n",
    "  print(x)"
   ]
  },
  {
   "cell_type": "markdown",
   "id": "1a89ce32",
   "metadata": {},
   "source": [
    "range() funksjonen har en standard inkrementverdi på 1, men det er mulig å spesifisere inkrementverdien ved å legge til en tredje parameter: range(2, 30, 2):"
   ]
  },
  {
   "cell_type": "code",
   "execution_count": null,
   "id": "3d75b2af",
   "metadata": {},
   "outputs": [],
   "source": [
    "for x in range(2, 30, 2):\n",
    "  print(x)"
   ]
  },
  {
   "cell_type": "markdown",
   "id": "c0c15066",
   "metadata": {},
   "source": [
    "# Else\n",
    "\"Else\"-nøkkelordet i en \"for\"-løkke spesifiserer en kodeblokk som skal utføres når løkken er ferdig."
   ]
  },
  {
   "cell_type": "code",
   "execution_count": null,
   "id": "c2fd2956",
   "metadata": {},
   "outputs": [],
   "source": [
    "#Dette programmet sjekker om en liste med heltall inneholder noen negative verdier og skriver ut en melding \n",
    "#som indikerer om det finnes negative verdier.\n",
    "\n",
    "verdier = [1, 2, 3, -4, 5, 6]\n",
    "\n",
    "for ver in verdiere:\n",
    "    if ver < 0:\n",
    "        print(\"Negative verdier funnet!\")\n",
    "        break\n",
    "else:\n",
    "    print(\"Ingen negative verdier funnet!\")"
   ]
  },
  {
   "cell_type": "markdown",
   "id": "cf99a1b1",
   "metadata": {},
   "source": [
    "# While-løkker\n",
    "\n",
    "En while-løkke utfører en kodeblokk så lenge en betingelse er sann.\n",
    "While-løkker er nyttige når du vil gjenta en serie instruksjoner et ukjent antall ganger, avhengig av en betingelse som bare er kjent på kjøretidspunktet. For eksempel kan du bruke en while-løkke til å fortsette å be en bruker om input inntil de gir en gyldig verdi. Imidlertid må du være forsiktig når du bruker while-løkker, siden hvis betingelsen aldri blir usann, kan løkken bli en uendelig løkke og føre til at programmet henger seg eller krasjer.\n",
    "I while-løkker kan du også bruke break, continue og else-setningene."
   ]
  },
  {
   "cell_type": "code",
   "execution_count": null,
   "id": "350615b4",
   "metadata": {},
   "outputs": [],
   "source": [
    "#Skriv ut i så lenge  i er < enn 6\n",
    "i = 1\n",
    "while i < 6:\n",
    "  print(i)\n",
    "  i += 1"
   ]
  },
  {
   "cell_type": "markdown",
   "id": "c22f0170",
   "metadata": {},
   "source": [
    "## Bryt/ Break"
   ]
  },
  {
   "cell_type": "code",
   "execution_count": null,
   "id": "8e15af6a",
   "metadata": {},
   "outputs": [],
   "source": [
    "# Dette programmet bruker en while loop med et break-statement til å finne det første partallet i en liste\n",
    "tall = [3, 7, 5, 8, 4, 6, 9]\n",
    "\n",
    "for t in tall:\n",
    "    if t % 2 == 0:\n",
    "        print(f\"Det første partallet er {t}\")\n",
    "        break\n",
    "else:\n",
    "    print(\"Ingen partall er funnet i listen\")"
   ]
  },
  {
   "cell_type": "markdown",
   "id": "c0fd409c",
   "metadata": {},
   "source": [
    "## Fortsett/ Continue"
   ]
  },
  {
   "cell_type": "code",
   "execution_count": null,
   "id": "b7cc75e8",
   "metadata": {},
   "outputs": [],
   "source": [
    "#Bruk en while loop med et en continue kommando for å skrive ut alle oddetall fra 1 til 10.\n",
    "start = 1\n",
    "slutt = 10\n",
    "\n",
    "while start <= slutt:\n",
    "    if start % 2 == 0:\n",
    "        start += 1\n",
    "        continue\n",
    "    print(start)\n",
    "    start += 1"
   ]
  },
  {
   "cell_type": "markdown",
   "id": "c16dd844",
   "metadata": {},
   "source": [
    "## Else\n",
    "I dette programmet vil vi beregne faktoren til et tall ved hjelp av en while-løkke. Vi initialiserer faktorvariabelen til 1, og bruker deretter en while-løkke til å multiplisere hvert tall fra nummeret ned til 1. Inne i løkken multipliserer vi faktor med telleren, og deretter dekrementerer vi telleren med 1. Når løkken er ferdig, bruker vi en else-setning for å skrive ut resultatet av beregningen. Hvis løk"
   ]
  },
  {
   "cell_type": "code",
   "execution_count": null,
   "id": "d6ad4f91",
   "metadata": {},
   "outputs": [],
   "source": [
    "# Use a while loop with an else statement to print \n",
    "# the factorial of a number\n",
    "#Bruk en while loop med en else kommando til å skrive ut faktorialtallet \n",
    "nummer = 5\n",
    "faktorial = 1\n",
    "teller = nummer\n",
    "\n",
    "while teller > 0:\n",
    "    faktorial *= teller\n",
    "    teller -= 1\n",
    "else:\n",
    "    print(f\"Faktorialtallet til {nummer} is {faktorial}\")"
   ]
  },
  {
   "cell_type": "markdown",
   "id": "34690d3f",
   "metadata": {},
   "source": [
    "# Nøstede løkker\n",
    "\n",
    "En nøstet løkke er en løkke inne i en annen løkke.\n",
    "\n",
    "\"Indre løkke\" vil bli utført én gang for hver iterasjon av \"ytre løkke\":"
   ]
  },
  {
   "cell_type": "code",
   "execution_count": null,
   "id": "1e9c7bdf",
   "metadata": {},
   "outputs": [],
   "source": [
    "# This program prints out the multiplication table until 6X6\n",
    "\n",
    "# Define the inputs\n",
    "numbers = [1, 2, 3, 4, 5, 6]\n",
    "\n",
    "# Loop over each number combination\n",
    "for num1 in numbers:\n",
    "    for num2 in numbers:\n",
    "        product = num1 * num2\n",
    "        print(f\"{num1} x {num2} = {product}\")"
   ]
  },
  {
   "cell_type": "markdown",
   "id": "11df6501",
   "metadata": {},
   "source": [
    "Anta at vi vil beregne molær strømningshastighet for hver art i en kjemisk reaksjon ved ulike temperaturer. Vi har en liste med temperaturer T i Kelvin og en liste med arter S som er involvert i reaksjonen. Vi kan bruke en innbakt for-løkke for å iterere gjennom hver temperatur og hver art, og beregne molær strømningshastighet ved hjelp av Arrhenius-ligningen:"
   ]
  },
  {
   "cell_type": "code",
   "execution_count": null,
   "id": "e8e7ba12",
   "metadata": {},
   "outputs": [],
   "source": [
    "import math\n",
    "\n",
    "R = 8.314  # Universell gasskonstant [J/(mol K)]\n",
    "A = 1e9   # Pre-eksponentialfaktor [1/s]\n",
    "Ea = 100e3  # Aktiveringsenergi [J/mol]\n",
    "\n",
    "T = [300, 400, 500]  # Temperatur [K]\n",
    "S = ['A', 'B', 'C']  # Arter\n",
    "\n",
    "for temp in T:\n",
    "    for art in S:\n",
    "        k = A * math.exp(-Ea/(R*temp))  # Reaksjonshastighet [1/s]\n",
    "        C = 1  # Konsentrasjon [mol/L]\n",
    "        n = 2  # Støkiometrisk koeffisient\n",
    "        F = k * C**n  # Molær strømningshastighet [mol/s]\n",
    "        print(f\"Ved T = {temp} K, er molær strømningshastighet av art {art} lik {F} mol/s.\")"
   ]
  },
  {
   "cell_type": "code",
   "execution_count": null,
   "id": "7301eea1",
   "metadata": {},
   "outputs": [],
   "source": []
  }
 ],
 "metadata": {
  "kernelspec": {
   "display_name": "Python 3 (ipykernel)",
   "language": "python",
   "name": "python3"
  },
  "language_info": {
   "codemirror_mode": {
    "name": "ipython",
    "version": 3
   },
   "file_extension": ".py",
   "mimetype": "text/x-python",
   "name": "python",
   "nbconvert_exporter": "python",
   "pygments_lexer": "ipython3",
   "version": "3.11.5"
  }
 },
 "nbformat": 4,
 "nbformat_minor": 5
}
