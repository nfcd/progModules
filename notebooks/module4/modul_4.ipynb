{
 "cells": [
  {
   "cell_type": "markdown",
   "id": "9e02ee52",
   "metadata": {},
   "source": [
    "# Modul 4\n",
    "\n",
    "## Arrays\n",
    "Arrays i Python er datastrukturer som lar deg lagre en samling av elementer, typisk av samme datatype. Arrays kan være både 1, 2 og 3- dimensjonelle. Man bruker Du kan hente ut elementer fra en array basert på deres indeks som refererer til posisjonen til elementet i arrayen. I Python bruker arrays null-basert indeksing, det vil si at det første elementet i arrayet har en indeks på 0, det andre elementet har en indeks på 1, og så videre. Det vanligste biblioteket for å lage og jobbe med arrays i python heter NumPy.\n",
    "\n",
    "## Hva er NumPy?\n",
    "NumPy står for Numerical Python(Numerisk Python) og er et bibliotek som man blandt annet kan bruke til å oprette arrays, samt utføre matematiske operasjoner på arraysene. NumPy biblioteket er et svært nyttig verktøy innenfor datavitenskap, maskinlæring og andre områder der du trenge å utføre avanserte matematiske beregninger på store mengder data."
   ]
  },
  {
   "cell_type": "code",
   "execution_count": null,
   "id": "5f8b9623",
   "metadata": {},
   "outputs": [],
   "source": [
    "#Eksempel av NumPy\n",
    "import numpy as np \n",
    "pi = np.pi\n",
    "print(pi)"
   ]
  },
  {
   "cell_type": "code",
   "execution_count": null,
   "id": "b257ed1e",
   "metadata": {},
   "outputs": [],
   "source": [
    "#Eksempel av NumPy\n",
    "import numpy as np\n",
    "\n",
    "a = np. array([1, 2, 3, 4])\n",
    "b = np. array([2, 3, 4, 5])\n",
    "\n",
    "# Elementvis addisjon\n",
    "c = a + b\n",
    "print (\"Element-wise addition:\", c)\n",
    "\n",
    "# Elementvis multiplikasjon\n",
    "d = a * b\n",
    "print (\"Element wise multiplication:\", d)\n"
   ]
  },
  {
   "cell_type": "code",
   "execution_count": null,
   "id": "a7ef1a51",
   "metadata": {},
   "outputs": [],
   "source": [
    "#Hvordan lage in array ved á bruke NumPy\n",
    "#1D array: I NumPy er arrayer multi dimensjonelle strukturer som kan lagre store verdier av same datatype.\n",
    "#En dimensjonell array er en enkel rad av verdier, som dette:\n",
    "\n",
    "#Lager en 1-dimensjonell array med verdier fra 0 til 9:\n",
    "array_1d = np. array ( [0, 1, 2, 3, 5, 6, 7, 8, 9])\n",
    "\n",
    "print (\"1D Array:\", array_1d)"
   ]
  },
  {
   "cell_type": "code",
   "execution_count": null,
   "id": "f7fc2c5a",
   "metadata": {},
   "outputs": [],
   "source": [
    "#2D array: En 2-dimensjonell array er en tabell av verdier med rader og kolonner.\n",
    "\n",
    "#Lager en 2-dimensjonell array med verdier fra 0 til 9:\n",
    "array_2d = np. array([[0, 1, 2], [3, 4, 5], [6, 7, 8], [9, 10, 11]])\n",
    "\n",
    "print (\"2D Array:\")\n",
    "print (array_2d)"
   ]
  },
  {
   "cell_type": "code",
   "execution_count": null,
   "id": "caad3d9e",
   "metadata": {},
   "outputs": [],
   "source": [
    "#3D array: En 3-dimensjonell array er en array av 2D-arrayer. Deter som en kuber av verdier\n",
    "#hvor her celle kuben kan inneholde en egen kube eller skalar verdi.\n",
    "\n",
    "# Lager en 3-dimensjonell array med verdier fra 0 til 23:\n",
    "array_3d = np. array([[[0, 1, 2], [3, 4, 5]], [[6, 7, 8], [9, 10, 11]], \n",
    "                      [[12, 13, 14], [15, 16, 17]], [[18, 19, 20], [21, 22, 23]]])\n",
    "print (\"3D Array:\")\n",
    "print (array_3d)"
   ]
  },
  {
   "cell_type": "markdown",
   "id": "0b5f170a",
   "metadata": {},
   "source": [
    "## Enkle og raske måter å oprette arrays"
   ]
  },
  {
   "cell_type": "code",
   "execution_count": null,
   "id": "0ea869c9",
   "metadata": {},
   "outputs": [],
   "source": [
    "#Ved å bruke np.zeros() funksjonen\n",
    "\n",
    "#lage en array av 0-er i 3x3 form\n",
    "arr = np.zeros((3,3))\n",
    "print(arr)"
   ]
  },
  {
   "cell_type": "code",
   "execution_count": null,
   "id": "1850cd9b",
   "metadata": {},
   "outputs": [],
   "source": [
    "#Ved å bruke np.ones() funksjonen\n",
    "\n",
    "#lage en array av 1-er i 4x4 form\n",
    "arr = np.ones((4,4))\n",
    "print(arr)"
   ]
  },
  {
   "cell_type": "code",
   "execution_count": null,
   "id": "1b7c6f0b",
   "metadata": {},
   "outputs": [],
   "source": [
    "#Ved å bruke np.eye funksjonen\n",
    "\n",
    "# lager en 3x3 identitet matrise\n",
    "arr=np.eye(3)\n",
    "print(arr)"
   ]
  },
  {
   "cell_type": "code",
   "execution_count": null,
   "id": "547e4528",
   "metadata": {},
   "outputs": [],
   "source": [
    "#Ved å bruke np.arange funksjonen\n",
    "\n",
    "# lager en array fra 0 til 1 med 11 verdier og gjevne mellomrom\n",
    "arr = np.arange(0, 1.1, 0.1)\n",
    "print(arr)"
   ]
  },
  {
   "cell_type": "code",
   "execution_count": null,
   "id": "74aed3b5",
   "metadata": {},
   "outputs": [],
   "source": [
    "#Ved å bruke np.linspace funksjonen\n",
    "\n",
    "# lager en array fra 0 til 1 med 11 verdier og gjevne mellomrom\n",
    "arr = np.linspace(0, 1.0, 11)\n",
    "print(arr)"
   ]
  },
  {
   "cell_type": "markdown",
   "id": "64030221",
   "metadata": {},
   "source": [
    "## Array indeksering og oppdeling"
   ]
  },
  {
   "cell_type": "code",
   "execution_count": null,
   "id": "5323b46b",
   "metadata": {},
   "outputs": [],
   "source": [
    "#Array indeksering: \n",
    "#Array indeksering lar deg få tilgang til individuelle elementer i en array. For eksempel:\n",
    "\n",
    "# Lager en array med verdier mellom 0 to 9\n",
    "array = np.arange(10)\n",
    "\n",
    "# Få tilgang til det første elementet i array\n",
    "print(\"Første elementet:\", array[0])\n",
    "\n",
    "# Få tilgang til det siste elementet i array\n",
    "print(\"Siste elementet:\", array[-1])\n",
    "\n",
    "#Få tilgang til det siste elementet i array med [9]:\n",
    "print(\"Siste elementet:\",array[9])"
   ]
  },
  {
   "cell_type": "code",
   "execution_count": null,
   "id": "260bccbd",
   "metadata": {},
   "outputs": [],
   "source": [
    "#Array oppdeling: \n",
    "#Array oppdeling lar deg få tilgang til et delsett av en array. For eksempel:\n",
    "\n",
    "# Lager en array med verdier mellom 0 to 9\n",
    "array = np.arange(10)\n",
    "\n",
    "# Få tilgang til de tre første elementene i array\n",
    "print(\"First three elements:\", array[:3])\n",
    "\n",
    "# Få tilgang til elementene fra 3 til 6 (inkludert)\n",
    "print(\"Elements 3 to 6:\", array[2:6])\n",
    "\n",
    "# Få tilgang til alle andre elementer\n",
    "print(\"Every other element:\", array[::2])"
   ]
  },
  {
   "cell_type": "markdown",
   "id": "e747ddb9",
   "metadata": {},
   "source": [
    "## Element-vise operasjoner med Numpy"
   ]
  },
  {
   "cell_type": "code",
   "execution_count": null,
   "id": "ef12f5b9",
   "metadata": {},
   "outputs": [],
   "source": [
    "a = np.array([1, 2, 3, 4])\n",
    "b = np.array([2, 3, 4, 5])\n",
    "\n",
    "# Addisjon\n",
    "c = a + b\n",
    "print(\"Element-vise addisjon:\", c)\n",
    "\n",
    "# Subtraksjon\n",
    "c = a - b\n",
    "print(\"Element-vise subtraksjon:\", c)\n",
    "\n",
    "# Multiplikasjon\n",
    "c = a * b\n",
    "print(\"Element-vise multiplikasjon:\", c)\n",
    "\n",
    "# Inndeling\n",
    "c = a / b\n",
    "print(\"Element-vise inndeling:\", c)"
   ]
  },
  {
   "cell_type": "code",
   "execution_count": null,
   "id": "88a7decb",
   "metadata": {},
   "outputs": [],
   "source": [
    "# Dette fungerer også\n",
    "\n",
    "# Addisjon\n",
    "c = np.add(a,b)\n",
    "print(\"Element-vise addisjon:\", c)\n",
    "\n",
    "# Subtraksjon\n",
    "c = np.subtract(a,b)\n",
    "print(\"Element-vise subtraksjon:\", c)\n",
    "\n",
    "# Multiplikasjon\n",
    "c = np.multiply(a,b)\n",
    "print(\"Element-vise multiplikasjon:\", c)\n",
    "\n",
    "# Inndeling\n",
    "c = np.divide(a,b)\n",
    "print(\"Element-vise inndeling:\", c)"
   ]
  },
  {
   "cell_type": "code",
   "execution_count": null,
   "id": "c0110fbb",
   "metadata": {},
   "outputs": [],
   "source": []
  }
 ],
 "metadata": {
  "kernelspec": {
   "display_name": "Python 3 (ipykernel)",
   "language": "python",
   "name": "python3"
  },
  "language_info": {
   "codemirror_mode": {
    "name": "ipython",
    "version": 3
   },
   "file_extension": ".py",
   "mimetype": "text/x-python",
   "name": "python",
   "nbconvert_exporter": "python",
   "pygments_lexer": "ipython3",
   "version": "3.11.5"
  }
 },
 "nbformat": 4,
 "nbformat_minor": 5
}
