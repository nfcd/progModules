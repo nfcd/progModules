{
 "cells": [
  {
   "cell_type": "markdown",
   "id": "7f286a2e",
   "metadata": {},
   "source": [
    "# Module 4\n",
    "## Arrays\n",
    " In Python, an array is a data structure that stores a collection of items, typically of the same type. The items are stored in contiguous memory locations and can be accessed using their index, which is an integer value that corresponds to the position of the item in the array. The most common library used to create and handle arrays in Python is the NumPy library, which provides a wide range of functions for working with arrays."
   ]
  },
  {
   "cell_type": "markdown",
   "id": "13a31611",
   "metadata": {},
   "source": [
    "## Introducing NumPy\n",
    "NumPy is a Python library that stands for 'Numerical Python'. It provides a powerful and efficient way of working with arrays and matrices of numerical data. It is a fundamental library for scientific computing and data analysis in Python."
   ]
  },
  {
   "cell_type": "code",
   "execution_count": null,
   "id": "2cabb080",
   "metadata": {},
   "outputs": [],
   "source": [
    "#Example of NumPy\n",
    "import numpy as  np\n",
    "pi = np.pi\n",
    "print(pi)"
   ]
  },
  {
   "cell_type": "code",
   "execution_count": null,
   "id": "4978e72d",
   "metadata": {},
   "outputs": [],
   "source": [
    "#How to create an array in python. \n",
    "\n",
    "#In NumPy, arrays are multi-dimensional structures that can store values of the same data type.\n",
    "\n",
    "#A 1D array is a single row or column of values, like this:\n",
    "\n",
    "import numpy as np\n",
    "\n",
    "# Create a 1D array with values ranging from 0 to 9\n",
    "array_1d = np.array([0, 1, 2, 3, 4, 5, 6, 7, 8, 9])\n",
    "\n",
    "print(\"1D Array:\", array_1d)"
   ]
  },
  {
   "cell_type": "code",
   "execution_count": null,
   "id": "f857c6a9",
   "metadata": {},
   "outputs": [],
   "source": [
    "#2D array: A 2D array is a table of values with rows and columns, like this:\n",
    "\n",
    "\n",
    "import numpy as np\n",
    "\n",
    "# Create a 2D array with values ranging from 0 to 9\n",
    "array_2d = np.array([[0, 1, 2], [3, 4, 5], [6, 7, 8], [9, 10, 11]])\n",
    "\n",
    "print(\"2D Array:\")\n",
    "print(array_2d)"
   ]
  },
  {
   "cell_type": "markdown",
   "id": "597de53d",
   "metadata": {},
   "source": [
    "## Quick ways to generate arrays: np.zeros, np.ones, np.arange, np.linspace"
   ]
  },
  {
   "cell_type": "code",
   "execution_count": null,
   "id": "199f876d",
   "metadata": {},
   "outputs": [],
   "source": [
    "#Using the np.zeros() function\n",
    "\n",
    "# create an array filled with zeros with a shape of (3, 3)\n",
    "arr = np.zeros((3, 3))\n",
    "print(arr)"
   ]
  },
  {
   "cell_type": "code",
   "execution_count": null,
   "id": "68092b30",
   "metadata": {},
   "outputs": [],
   "source": [
    "#Using the  np.ones() function\n",
    "\n",
    "# create an array filled with ones with a shape of (4, 4)\n",
    "arr = np.ones((4, 4))\n",
    "print(arr)"
   ]
  },
  {
   "cell_type": "code",
   "execution_count": null,
   "id": "53fec106",
   "metadata": {},
   "outputs": [],
   "source": [
    "#Using the np.eye() function\n",
    "\n",
    "# create an identity matrix with shape of (3,3)\n",
    "arr = np.eye(3)\n",
    "print(arr)"
   ]
  },
  {
   "cell_type": "code",
   "execution_count": null,
   "id": "3a67ea5b",
   "metadata": {},
   "outputs": [],
   "source": [
    "# using the np.arange() function\n",
    "\n",
    "# create an array with 11 evenly spaced elements between 0 and 1\n",
    "arr = np.arange(0, 1.1, 0.1)\n",
    "print(arr)"
   ]
  },
  {
   "cell_type": "code",
   "execution_count": null,
   "id": "b71effd2",
   "metadata": {},
   "outputs": [],
   "source": [
    "#Using the np.linspace() function\n",
    "\n",
    "# create an array with 11 evenly spaced values between 0 and 1\n",
    "arr = np.linspace(0, 1, 11)\n",
    "print(arr)"
   ]
  },
  {
   "cell_type": "markdown",
   "id": "7a2ea44a",
   "metadata": {},
   "source": [
    "## Array indexing and slicing"
   ]
  },
  {
   "cell_type": "code",
   "execution_count": null,
   "id": "667e5e5a",
   "metadata": {},
   "outputs": [],
   "source": [
    "#Array indexing: \n",
    "#Array indexing allows you to access individual elements of an array. For example:\n",
    "\n",
    "# Create an array with values ranging from 0 to 9\n",
    "array = np.arange(10)\n",
    "\n",
    "# Access the first element of the array\n",
    "print(\"First element:\", array[0])\n",
    "\n",
    "# Access the last element of the array\n",
    "print(\"Last element:\", array[-1])\n",
    "\n",
    "#Access the last element of the array with [9]:\n",
    "print(\"Last element:\",array[9])"
   ]
  },
  {
   "cell_type": "code",
   "execution_count": null,
   "id": "232d47dd",
   "metadata": {},
   "outputs": [],
   "source": [
    "#Array slicing: \n",
    "#Array slicing allows you to access a subset of an array. For example:\n",
    "\n",
    "# Create an array with values ranging from 0 to 9\n",
    "array = np.arange(10)\n",
    "\n",
    "# Access the first three elements of the array\n",
    "print(\"First three elements:\", array[:3])\n",
    "\n",
    "# Access the elements from the 3rd to the 6th (inclusive)\n",
    "print(\"Elements 3 to 6:\", array[2:6])\n",
    "\n",
    "# Access every other element\n",
    "print(\"Every other element:\", array[::2])"
   ]
  },
  {
   "cell_type": "markdown",
   "id": "5b699982",
   "metadata": {},
   "source": [
    "## Element-wise operations using NumPy"
   ]
  },
  {
   "cell_type": "code",
   "execution_count": null,
   "id": "fed1a71c",
   "metadata": {},
   "outputs": [],
   "source": [
    "a = np.array([1, 2, 3, 4])\n",
    "b = np.array([2, 3, 4, 5])\n",
    "\n",
    "# Element-wise addition\n",
    "c = a + b\n",
    "print(\"Element-wise addition:\", c)\n",
    "\n",
    "# Element-wise subtraction\n",
    "c = a - b\n",
    "print(\"Element-wise subtraction:\", c)\n",
    "\n",
    "# Element-wise multiplication\n",
    "c = a * b\n",
    "print(\"Element-wise multiplication:\", c)\n",
    "\n",
    "# Element-wise division\n",
    "c = a / b\n",
    "print(\"Element-wise division:\", c)"
   ]
  },
  {
   "cell_type": "code",
   "execution_count": null,
   "id": "9c48bbaf",
   "metadata": {},
   "outputs": [],
   "source": [
    "# This also works\n",
    "\n",
    "# Element-wise addition\n",
    "c = np.add(a,b)\n",
    "print(\"Element-wise addition:\", c)\n",
    "\n",
    "# Element-wise subtraction\n",
    "c = np.subtract(a,b)\n",
    "print(\"Element-wise subtraction:\", c)\n",
    "\n",
    "# Element-wise multiplication\n",
    "c = np.multiply(a,b)\n",
    "print(\"Element-wise multiplication:\", c)\n",
    "\n",
    "# Element-wise division\n",
    "c = np.divide(a,b)\n",
    "print(\"Element-wise division:\", c)"
   ]
  },
  {
   "cell_type": "code",
   "execution_count": null,
   "id": "94e8b65f",
   "metadata": {},
   "outputs": [],
   "source": []
  }
 ],
 "metadata": {
  "kernelspec": {
   "display_name": "Python 3 (ipykernel)",
   "language": "python",
   "name": "python3"
  },
  "language_info": {
   "codemirror_mode": {
    "name": "ipython",
    "version": 3
   },
   "file_extension": ".py",
   "mimetype": "text/x-python",
   "name": "python",
   "nbconvert_exporter": "python",
   "pygments_lexer": "ipython3",
   "version": "3.11.5"
  }
 },
 "nbformat": 4,
 "nbformat_minor": 5
}
