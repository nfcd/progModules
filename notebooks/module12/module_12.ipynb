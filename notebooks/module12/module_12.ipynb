{
 "cells": [
  {
   "cell_type": "markdown",
   "id": "f840ad6f",
   "metadata": {},
   "source": [
    "# Module 12: Images\n",
    "\n",
    "In this module, we are going to  do an exercise involving images. In the different realms of engineering, images are used everywhere. Photos, satellite images, and aerial photos are all images. \n",
    "\n",
    "Images are basically layers of gridded data with an intensity value at each pixel. The layers in the image are called channels(e.g., the red, green and blue channels), and the combination of these channels produces a specific color at each pixel.\n",
    "\n",
    "The following example illustrates the loading, manipulation and saving of images.\n",
    "\n",
    "But first, you need to install some stuff..."
   ]
  },
  {
   "cell_type": "markdown",
   "id": "b441ba5c",
   "metadata": {},
   "source": [
    "## What you need to install\n",
    "In Python, we can use the pillow library to load, display and manipulate images. We believe pillow is installed in the Anaconda distribution, but if not, you will need to install it as follows:"
   ]
  },
  {
   "cell_type": "code",
   "execution_count": null,
   "id": "970ffe2d",
   "metadata": {},
   "outputs": [],
   "source": [
    "# run this cell if pillow is not installed\n",
    "import sys\n",
    "!{sys.executable} -m pip install pillow"
   ]
  },
  {
   "cell_type": "markdown",
   "id": "fbcd5c6c",
   "metadata": {},
   "source": [
    "### Importing an image of your choice\n",
    "We are importing our image: \"SURF.JPG\". OBS: You have to make sure the image you choose to import is in the same folder as your notebook."
   ]
  },
  {
   "cell_type": "code",
   "execution_count": null,
   "id": "ef06b196",
   "metadata": {
    "scrolled": false
   },
   "outputs": [],
   "source": [
    "# import and print image\n",
    "\n",
    "from PIL import Image\n",
    "import os\n",
    "\n",
    "im = Image.open(os.path.join(\"SURF.JPG\")) # import image of your choice in \"SURF.JPG\"\n",
    "\n",
    "print(im.format, im.size, im.mode) # print image information\n",
    "\n",
    "im"
   ]
  },
  {
   "cell_type": "markdown",
   "id": "ea5503cd",
   "metadata": {},
   "source": [
    "The image is in *portable network graphics* PNG format, and it has 6000 by 3376 pixels, in three channels: red (R), green (G) and blue (B). Now, let's convert the image to an array using the `numpy.array` method, and print the shape, and maximum and minimum values of the array:"
   ]
  },
  {
   "cell_type": "code",
   "execution_count": null,
   "id": "17b76b09",
   "metadata": {},
   "outputs": [],
   "source": [
    "import numpy as np\n",
    "\n",
    "data = np.array(im) # convert image to array, \"asarray\" also works here\n",
    "\n",
    "print(data.shape) # print shape of array\n",
    "\n",
    "print(\"minimum value =\", np.amin(data), \"maximum value =\", np.amax(data)) # print max and min array values"
   ]
  },
  {
   "cell_type": "markdown",
   "id": "5e85bee6",
   "metadata": {},
   "source": [
    "The array is a 3D array, which basically represents 3 (`data.shape[2]`) 2D layered grids (each one 3376 x 6000 pixels in size), corresponding to the R, G and B channels. The minimum and maximum values in the grid are 0 and 255. These values come from the format of the image (JPG), which uses a fixed 8-bit colormap of $2^8=256$ possible combinations representing different intensities. Now, let's plot the image:"
   ]
  },
  {
   "cell_type": "code",
   "execution_count": null,
   "id": "879c8e45",
   "metadata": {},
   "outputs": [],
   "source": [
    "import matplotlib.pyplot as plt\n",
    "\n",
    "fig, ax = plt.subplots(figsize=(8, 6)) # create figure\n",
    "\n",
    "ax.imshow(data); # plot image"
   ]
  },
  {
   "cell_type": "markdown",
   "id": "1a561ef3",
   "metadata": {},
   "source": [
    "Now lets see our color channels in a histogram."
   ]
  },
  {
   "cell_type": "code",
   "execution_count": null,
   "id": "5fa3b11c",
   "metadata": {},
   "outputs": [],
   "source": [
    "colors = [\"red\", \"green\", \"blue\"] # list of colors\n",
    "channel_ids = [0, 1, 2] # list of channels ids\n",
    "\n",
    "fig, ax = plt.subplots() # create figure\n",
    "\n",
    "# plot histogram\n",
    "for channel_id, c in zip(channel_ids, colors): # iterate over each channel ids and colors\n",
    "    histogram, bin_edges = np.histogram(data[:, :, channel_id], bins=256, range=(0, 256)) # compute histogram\n",
    "    ax.plot(bin_edges[0:-1], histogram, color=c, label=c + \" channel\") # plot histogram\n",
    "\n",
    "# figure title, axes labels and legend\n",
    "ax.set_title(\"Histogram Surf image\")\n",
    "ax.set_xlabel(\"value\")\n",
    "ax.set_ylabel(\"pixels\")\n",
    "ax.legend(loc = \"upper left\");"
   ]
  },
  {
   "cell_type": "markdown",
   "id": "8d8cb4e3",
   "metadata": {},
   "source": [
    "Here are the histograms of the individual  color channels.\n",
    "\n",
    "Now, let's do something more interesting. Let's process the image to better highlight its main components. To do this, we use the [scikit-image](https://scikit-image.org) library, which is a collection of algorithms for image processing. We believe `scikit-image` is installed in the Anaconda distribution, but if not, you will need to install it as follows:"
   ]
  },
  {
   "cell_type": "code",
   "execution_count": null,
   "id": "fad3d70c",
   "metadata": {},
   "outputs": [],
   "source": [
    "# run this cell if scikit-image is not installed\n",
    "import sys\n",
    "!{sys.executable} -m pip install scikit-image"
   ]
  },
  {
   "cell_type": "markdown",
   "id": "8ba819e9",
   "metadata": {},
   "source": [
    "Let's convert the image to gray scale using the `scikit-image.color.rgb2gray` function (more about how this function works [here](https://scikit-image.org/docs/dev/auto_examples/color_exposure/plot_rgb_to_gray.html)), and then smooth the image a little bit using a gaussian filter ([sckit-image.filters.gaussian](https://scikit-image.org/docs/stable/api/skimage.filters.html#skimage.filters.gaussian)). We also print the size of the filtered image, the minimum and maximum values, and plot the image:\n"
   ]
  },
  {
   "cell_type": "code",
   "execution_count": null,
   "id": "f62f6af3",
   "metadata": {},
   "outputs": [],
   "source": [
    "from skimage import color, filters\n",
    "\n",
    "data_gray = color.rgb2gray(data) # converts RGB image to single grayscale channel\n",
    "\n",
    "data_grad = filters.gaussian(data_gray) # apply Gaussian filter to grayscale image\n",
    "\n",
    "# print size and minimum and maximum values\n",
    "print(data_grad.shape) \n",
    "print(\"minimum value = {:.3f}, maximum value = {:.3f}\".format(np.amin(data_grad), np.amax(data_grad)) ) \n",
    "\n",
    "# plot filtered image. You can also try to use the 'viridis colormap'\n",
    "fig, ax = plt.subplots(figsize=(8, 6))\n",
    "plt.imshow(data_grad, cmap='gray')# Using the \"gray\" colormap for grayscale\n",
    "cbar= plt.colorbar();# gray scale bar\n",
    "cbar.set_label('Intensity', rotation=270, labelpad=10)\n"
   ]
  },
  {
   "cell_type": "markdown",
   "id": "c99add43",
   "metadata": {},
   "source": [
    "Now, let´s  try  to blur and sharpen our picture, as well as change brightness and contrast:"
   ]
  },
  {
   "cell_type": "code",
   "execution_count": null,
   "id": "3b8ace67",
   "metadata": {
    "scrolled": false
   },
   "outputs": [],
   "source": [
    "from PIL import Image, ImageEnhance, ImageFilter\n",
    "from IPython.display import display\n",
    "\n",
    "def process_and_display(input_path):\n",
    "    # Open the image\n",
    "    img = Image.open(input_path)\n",
    "\n",
    "    # Display the original image\n",
    "    print(\"Original Image:\")\n",
    "    display(img)\n",
    "\n",
    "    # Blur the image\n",
    "    img_blurred = img.filter(ImageFilter.GaussianBlur(radius=10))#adjust the radius for more blur\n",
    "    print(\"Blurred Image:\")\n",
    "    display(img_blurred)\n",
    "\n",
    "    # Sharpen the image\n",
    "    #img_sharpened = img.filter(ImageFilter.SHARPEN)\n",
    "    img_sharpened = img.filter(ImageFilter.UnsharpMask(radius=3, percent=300, threshold=3))\n",
    "    print(\"Sharpened Image:\")\n",
    "    display(img_sharpened)\n",
    "\n",
    "    # Change brightness\n",
    "    enhancer_brightness = ImageEnhance.Brightness(img)\n",
    "    img_brightness = enhancer_brightness.enhance(1.5)  # Adjust the factor as needed\n",
    "    print(\"Brightened Image:\")\n",
    "    display(img_brightness)\n",
    "\n",
    "    # Change contrast\n",
    "    enhancer_contrast = ImageEnhance.Contrast(img)\n",
    "    img_contrast = enhancer_contrast.enhance(1.5)  # Adjust the factor as needed\n",
    "    print(\"High-Contrast Image:\")\n",
    "    display(img_contrast)\n",
    "\n",
    "\n",
    "# Replace this with your actual input path\n",
    "input_image_path = os.path.join(\"SURF.JPG\")\n",
    "\n",
    "# Example usage\n",
    "process_and_display(input_image_path)"
   ]
  },
  {
   "cell_type": "code",
   "execution_count": null,
   "id": "4aa81ad2",
   "metadata": {},
   "outputs": [],
   "source": []
  }
 ],
 "metadata": {
  "kernelspec": {
   "display_name": "Python 3 (ipykernel)",
   "language": "python",
   "name": "python3"
  },
  "language_info": {
   "codemirror_mode": {
    "name": "ipython",
    "version": 3
   },
   "file_extension": ".py",
   "mimetype": "text/x-python",
   "name": "python",
   "nbconvert_exporter": "python",
   "pygments_lexer": "ipython3",
   "version": "3.11.5"
  }
 },
 "nbformat": 4,
 "nbformat_minor": 5
}
