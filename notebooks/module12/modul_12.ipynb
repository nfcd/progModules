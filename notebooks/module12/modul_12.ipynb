{
 "cells": [
  {
   "cell_type": "markdown",
   "id": "7d7e4b2a",
   "metadata": {},
   "source": [
    "# Modul 12: Bilder\n",
    "\n",
    "I denne modulen skal vi gjennomføre en øvelse som involverer bilder. I de ulike ingeniørfaglige områdene blir bilder brukt overalt. Bilder inkluderer fotografier, satellittbilder og flyfotografier.\n",
    "\n",
    "Bilder er i hovedsak lag med rutenettdata med en intensitetsverdi ved hvert piksel. Lagene i bildet kalles kanaler (for eksempel røde, grønne og blå kanaler), og kombinasjonen av disse kanalene produserer en spesifikk farge ved hvert piksel.\n",
    "\n",
    "Dette eksempelet illustrerer lesing, manipulering og lagring av bilder.\n",
    "\n",
    "Men først må du installere noen ting..."
   ]
  },
  {
   "cell_type": "markdown",
   "id": "a6a0fab8",
   "metadata": {},
   "source": [
    "## Hva du trenger å installere\n",
    "I Python kan vi bruke pillow-biblioteket for å laste, vise og manipulere bilder. Vi tror pillow er installert i Anaconda-distribusjonen, men hvis ikke, må du installere det slik:"
   ]
  },
  {
   "cell_type": "code",
   "execution_count": null,
   "id": "5bf1ab11",
   "metadata": {},
   "outputs": [],
   "source": [
    "# run this cell if pillow is not installed\n",
    "import sys\n",
    "!{sys.executable} -m pip install pillow"
   ]
  },
  {
   "cell_type": "markdown",
   "id": "5b2013b6",
   "metadata": {},
   "source": [
    "### Importer ditt eget bilde\n",
    "Vi importerer vårt bilde: \"SURF.JPG\". OBS: Du må sørge for at bildet du velger å importere, er i samme mappe som notatboken din."
   ]
  },
  {
   "cell_type": "code",
   "execution_count": null,
   "id": "288ff3fb",
   "metadata": {},
   "outputs": [],
   "source": [
    "# importer og print bildet\n",
    "\n",
    "from PIL import Image # importerer bilde ved hjelp av PIL biblioteket\n",
    "import os\n",
    "\n",
    "im = Image.open(os.path.join(\"SURF.JPG\")) # importer dit bilde istedenfor \"SURF.JPG\"\n",
    "\n",
    "print(im.format, im.size, im.mode) # print ut informasjonen om bildet\n",
    "\n",
    "im"
   ]
  },
  {
   "cell_type": "markdown",
   "id": "4fc7162f",
   "metadata": {},
   "source": [
    "Bildet er i JPEG-format, og det har 6000 x 3376 piksler, fordelt på tre kanaler: rød (R), grønn (G) og blå (B). Nå skal vi konvertere bildet til en matrise ved hjelp av `numpy.array`-metoden, og skrive ut formen, samt maksimale og minimale verdier i matrisen:"
   ]
  },
  {
   "cell_type": "code",
   "execution_count": null,
   "id": "00c4d27f",
   "metadata": {},
   "outputs": [],
   "source": [
    "import numpy as np\n",
    "\n",
    "data = np.array(im) # konverter bildet til array\n",
    "\n",
    "print(data.shape) # Skriv ut form\n",
    "\n",
    "print(\"minimum value =\", np.amin(data), \"maximum value =\", np.amax(data)) # Printer ut min og max array-verdier"
   ]
  },
  {
   "cell_type": "markdown",
   "id": "e83d6dbb",
   "metadata": {},
   "source": [
    "Dette er en 3D-matrise, som representerer 3 (`data.shape[2]`) 2D-lag med rutenett (hver på størrelse 3376 x 6000 piksler), tilsvarende R, G og B-kanalene. Minimums- og maksimumsverdiene i rutenettet er 0 og 255. Disse verdiene kommer fra bildets format (JPG), som bruker et fast 8-bits fargekart med $2^8=256$ mulige kombinasjoner som representerer ulike intensiteter. Nå skal vi plotte bildet:"
   ]
  },
  {
   "cell_type": "code",
   "execution_count": null,
   "id": "3707e696",
   "metadata": {},
   "outputs": [],
   "source": [
    "import matplotlib.pyplot as plt\n",
    "\n",
    "fig, ax = plt.subplots(figsize=(8, 6)) # create figure\n",
    "\n",
    "ax.imshow(data); # plot image"
   ]
  },
  {
   "cell_type": "markdown",
   "id": "92034dfe",
   "metadata": {},
   "source": [
    "La oss nå se på farge kanalene i et histogram!"
   ]
  },
  {
   "cell_type": "code",
   "execution_count": null,
   "id": "bd310502",
   "metadata": {},
   "outputs": [],
   "source": [
    "farger = [\"red\", \"green\", \"blue\"] # Liste over farger\n",
    "kanal_id = [0, 1, 2] # Liste over kanal-ID-er\n",
    "\n",
    "fig, ax = plt.subplots() # Lager figur\n",
    "\n",
    "# plotter histogram\n",
    "for kanal_id, c in zip(kanal_id, farger): # Går over hver kanal id og farge\n",
    "    histogram, bin_edges = np.histogram(data[:, :, kanal_id], bins=256, range=(0, 256)) # lager histogrammet\n",
    "    ax.plot(bin_edges[0:-1], histogram, color=c, label=c + \" channel\") # plotter histogrammet\n",
    "\n",
    "# figure tittel, legende og akse-navn.\n",
    "ax.set_title(\"Histogram Surf image\")\n",
    "ax.set_xlabel(\"verdier\")\n",
    "ax.set_ylabel(\"pixler\")\n",
    "ax.legend(loc = \"upper left\");"
   ]
  },
  {
   "cell_type": "markdown",
   "id": "1a4d8a3a",
   "metadata": {},
   "source": [
    "Her er histogrammene for de individuelle fargekanalene.\n",
    "\n",
    "La oss nå gjøre noe mer interessant. La oss behandle bildet for å bedre fremheve hovedkomponentene. For å gjøre dette bruker vi [scikit-image](https://scikit-image.org)-biblioteket, som er en samling av algoritmer for bildebehandling. Vi tror at `scikit-image` er installert i Anaconda-distribusjonen, men hvis det ikke er det, må du installere det slik:"
   ]
  },
  {
   "cell_type": "code",
   "execution_count": null,
   "id": "5b2ca4f9",
   "metadata": {},
   "outputs": [],
   "source": [
    "# Kjør denne cellen hvis du ikke har scikit-image installert\n",
    "import sys\n",
    "!{sys.executable} -m pip install scikit-image"
   ]
  },
  {
   "cell_type": "markdown",
   "id": "8f74e49c",
   "metadata": {},
   "source": [
    "La oss konvertere bildet til gråtone ved å bruke funksjonen `scikit-image.color.rgb2gray` (mer om hvordan denne funksjonen fungerer [her](https://scikit-image.org/docs/dev/auto_examples/color_exposure/plot_rgb_to_gray.html)), og deretter gjøre bildet litt mykere ved hjelp av en gaussisk filter ([sckit-image.filters.gaussian](https://scikit-image.org/docs/stable/api/skimage.filters.html#skimage.filters.gaussian)). Vi skriver også ut størrelsen på det filtrerte bildet, minimums- og maksimumsverdiene, og plotter bildet:"
   ]
  },
  {
   "cell_type": "code",
   "execution_count": null,
   "id": "346da149",
   "metadata": {},
   "outputs": [],
   "source": [
    "from skimage import color, filters\n",
    "\n",
    "data_gray = color.rgb2gray(data) # konverterer bilde to en enkel gråskala kanal\n",
    "\n",
    "data_grad = filters.gaussian(data_gray) # bruker Gaussian filter for gråskala bilde\n",
    "\n",
    "# printer ut størrelsen på min og max verdi\n",
    "print(data_grad.shape) \n",
    "print(\"minimum value = {:.3f}, maximum value = {:.3f}\".format(np.amin(data_grad), np.amax(data_grad)) ) \n",
    "\n",
    "# vis gråskala bildet. Du kan også prøve 'viridis' på cmap\n",
    "fig, ax = plt.subplots(figsize=(8, 6))\n",
    "plt.imshow(data_grad, cmap=\"gray\")# bruker 'gray' på cmap for gråskala\n",
    "cbar= plt.colorbar();# grå skala bar\n",
    "cbar.set_label('Intensity', rotation=270, labelpad=10)"
   ]
  },
  {
   "cell_type": "markdown",
   "id": "21591c32",
   "metadata": {},
   "source": [
    "Nå skal vi prøve å gjøre litt forskjellige ting med bildet:"
   ]
  },
  {
   "cell_type": "code",
   "execution_count": null,
   "id": "1c04b287",
   "metadata": {
    "scrolled": false
   },
   "outputs": [],
   "source": [
    "from PIL import Image, ImageEnhance, ImageFilter\n",
    "from IPython.display import display\n",
    "\n",
    "def process_and_display(input_path):\n",
    "    # Åpne bildet\n",
    "    img = Image.open(input_path)\n",
    "\n",
    "    # Vis det orginale bildet\n",
    "    print(\"Originalbilde:\")\n",
    "    display(img)\n",
    "\n",
    "    # Gjør bildet uskarpt\n",
    "    img_blurred = img.filter(ImageFilter.GaussianBlur(radius=10))#adjust the radius for more blur\n",
    "    print(\"Uskarpt bilde:\")\n",
    "    display(img_blurred)\n",
    "\n",
    "    # Gjør bildet skarpt\n",
    "    img_sharpened = img.filter(ImageFilter.UnsharpMask(radius=3, percent=300, threshold=3))\n",
    "    print(\"Skarpere bilde:\")\n",
    "    display(img_sharpened)\n",
    "\n",
    "    # Endrer lysstyrke\n",
    "    enhancer_brightness = ImageEnhance.Brightness(img)\n",
    "    img_brightness = enhancer_brightness.enhance(1.5)  # Adjust the factor as needed\n",
    "    print(\"Lysere bilde:\")\n",
    "    display(img_brightness)\n",
    "\n",
    "    # Endre kontrast nivå\n",
    "    enhancer_contrast = ImageEnhance.Contrast(img)\n",
    "    img_contrast = enhancer_contrast.enhance(1.5)  # Adjust the factor as needed\n",
    "    print(\"Bilde med høy kontrast:\")\n",
    "    display(img_contrast)\n",
    "\n",
    "# Erstatt denne veien med din vei\n",
    "input_image_path = os.path.join(\"SURF.JPG\")\n",
    "    \n",
    "# Bruk funksjonen\n",
    "process_and_display(input_image_path)"
   ]
  },
  {
   "cell_type": "markdown",
   "id": "ba589bb6",
   "metadata": {},
   "source": [
    "Det var alt for denne gang. Dette er kun en kort introduksjon til hvordan du kan bruke bilder i python, det er mange flere muligheter også!"
   ]
  }
 ],
 "metadata": {
  "kernelspec": {
   "display_name": "Python 3 (ipykernel)",
   "language": "python",
   "name": "python3"
  },
  "language_info": {
   "codemirror_mode": {
    "name": "ipython",
    "version": 3
   },
   "file_extension": ".py",
   "mimetype": "text/x-python",
   "name": "python",
   "nbconvert_exporter": "python",
   "pygments_lexer": "ipython3",
   "version": "3.11.5"
  }
 },
 "nbformat": 4,
 "nbformat_minor": 5
}
